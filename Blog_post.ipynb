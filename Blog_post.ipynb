{
 "cells": [
  {
   "cell_type": "markdown",
   "id": "39be9808",
   "metadata": {},
   "source": [
    "#### Section 1 Business understanding\n",
    "\n",
    "Let's imagine that you are a programmer and wondering how to increase you're salary. Project follows the CRISP-DM process\n",
    "\n",
    "Based on data colected by Stackoverflow in 2017 Annual Developer Survey, I wil give you some hints, what might be beneficial for you or what makes no much a difference in terms of salary. There are 64,000 reviews from 213 countries, survey aims to understand aspects of jobs related to software development and data analytics.\n",
    "\n",
    "In below analysis, I will show following aspects related to salary size:\n",
    "##### Question I: More programming languages you know - more you earn?\n",
    "##### Question II: If you know Python, you earn more?\n",
    "##### Question III: Location makes a difference?"
   ]
  },
  {
   "cell_type": "markdown",
   "id": "1b1ff9ae",
   "metadata": {},
   "source": [
    "#### Section 2 Data Understanding\n",
    "\n",
    "##### Gather"
   ]
  },
  {
   "cell_type": "code",
   "execution_count": 122,
   "id": "226a5587",
   "metadata": {},
   "outputs": [
    {
     "data": {
      "text/html": [
       "<div>\n",
       "<style scoped>\n",
       "    .dataframe tbody tr th:only-of-type {\n",
       "        vertical-align: middle;\n",
       "    }\n",
       "\n",
       "    .dataframe tbody tr th {\n",
       "        vertical-align: top;\n",
       "    }\n",
       "\n",
       "    .dataframe thead th {\n",
       "        text-align: right;\n",
       "    }\n",
       "</style>\n",
       "<table border=\"1\" class=\"dataframe\">\n",
       "  <thead>\n",
       "    <tr style=\"text-align: right;\">\n",
       "      <th></th>\n",
       "      <th>Respondent</th>\n",
       "      <th>Professional</th>\n",
       "      <th>ProgramHobby</th>\n",
       "      <th>Country</th>\n",
       "      <th>University</th>\n",
       "      <th>EmploymentStatus</th>\n",
       "      <th>FormalEducation</th>\n",
       "      <th>MajorUndergrad</th>\n",
       "      <th>HomeRemote</th>\n",
       "      <th>CompanySize</th>\n",
       "      <th>...</th>\n",
       "      <th>StackOverflowMakeMoney</th>\n",
       "      <th>Gender</th>\n",
       "      <th>HighestEducationParents</th>\n",
       "      <th>Race</th>\n",
       "      <th>SurveyLong</th>\n",
       "      <th>QuestionsInteresting</th>\n",
       "      <th>QuestionsConfusing</th>\n",
       "      <th>InterestedAnswers</th>\n",
       "      <th>Salary</th>\n",
       "      <th>ExpectedSalary</th>\n",
       "    </tr>\n",
       "  </thead>\n",
       "  <tbody>\n",
       "    <tr>\n",
       "      <th>0</th>\n",
       "      <td>1</td>\n",
       "      <td>Student</td>\n",
       "      <td>Yes, both</td>\n",
       "      <td>United States</td>\n",
       "      <td>No</td>\n",
       "      <td>Not employed, and not looking for work</td>\n",
       "      <td>Secondary school</td>\n",
       "      <td>NaN</td>\n",
       "      <td>NaN</td>\n",
       "      <td>NaN</td>\n",
       "      <td>...</td>\n",
       "      <td>Strongly disagree</td>\n",
       "      <td>Male</td>\n",
       "      <td>High school</td>\n",
       "      <td>White or of European descent</td>\n",
       "      <td>Strongly disagree</td>\n",
       "      <td>Strongly agree</td>\n",
       "      <td>Disagree</td>\n",
       "      <td>Strongly agree</td>\n",
       "      <td>NaN</td>\n",
       "      <td>NaN</td>\n",
       "    </tr>\n",
       "    <tr>\n",
       "      <th>1</th>\n",
       "      <td>2</td>\n",
       "      <td>Student</td>\n",
       "      <td>Yes, both</td>\n",
       "      <td>United Kingdom</td>\n",
       "      <td>Yes, full-time</td>\n",
       "      <td>Employed part-time</td>\n",
       "      <td>Some college/university study without earning ...</td>\n",
       "      <td>Computer science or software engineering</td>\n",
       "      <td>More than half, but not all, the time</td>\n",
       "      <td>20 to 99 employees</td>\n",
       "      <td>...</td>\n",
       "      <td>Strongly disagree</td>\n",
       "      <td>Male</td>\n",
       "      <td>A master's degree</td>\n",
       "      <td>White or of European descent</td>\n",
       "      <td>Somewhat agree</td>\n",
       "      <td>Somewhat agree</td>\n",
       "      <td>Disagree</td>\n",
       "      <td>Strongly agree</td>\n",
       "      <td>NaN</td>\n",
       "      <td>37500.0</td>\n",
       "    </tr>\n",
       "    <tr>\n",
       "      <th>2</th>\n",
       "      <td>3</td>\n",
       "      <td>Professional developer</td>\n",
       "      <td>Yes, both</td>\n",
       "      <td>United Kingdom</td>\n",
       "      <td>No</td>\n",
       "      <td>Employed full-time</td>\n",
       "      <td>Bachelor's degree</td>\n",
       "      <td>Computer science or software engineering</td>\n",
       "      <td>Less than half the time, but at least one day ...</td>\n",
       "      <td>10,000 or more employees</td>\n",
       "      <td>...</td>\n",
       "      <td>Disagree</td>\n",
       "      <td>Male</td>\n",
       "      <td>A professional degree</td>\n",
       "      <td>White or of European descent</td>\n",
       "      <td>Somewhat agree</td>\n",
       "      <td>Agree</td>\n",
       "      <td>Disagree</td>\n",
       "      <td>Agree</td>\n",
       "      <td>113750.0</td>\n",
       "      <td>NaN</td>\n",
       "    </tr>\n",
       "    <tr>\n",
       "      <th>3</th>\n",
       "      <td>4</td>\n",
       "      <td>Professional non-developer who sometimes write...</td>\n",
       "      <td>Yes, both</td>\n",
       "      <td>United States</td>\n",
       "      <td>No</td>\n",
       "      <td>Employed full-time</td>\n",
       "      <td>Doctoral degree</td>\n",
       "      <td>A non-computer-focused engineering discipline</td>\n",
       "      <td>Less than half the time, but at least one day ...</td>\n",
       "      <td>10,000 or more employees</td>\n",
       "      <td>...</td>\n",
       "      <td>Disagree</td>\n",
       "      <td>Male</td>\n",
       "      <td>A doctoral degree</td>\n",
       "      <td>White or of European descent</td>\n",
       "      <td>Agree</td>\n",
       "      <td>Agree</td>\n",
       "      <td>Somewhat agree</td>\n",
       "      <td>Strongly agree</td>\n",
       "      <td>NaN</td>\n",
       "      <td>NaN</td>\n",
       "    </tr>\n",
       "    <tr>\n",
       "      <th>4</th>\n",
       "      <td>5</td>\n",
       "      <td>Professional developer</td>\n",
       "      <td>Yes, I program as a hobby</td>\n",
       "      <td>Switzerland</td>\n",
       "      <td>No</td>\n",
       "      <td>Employed full-time</td>\n",
       "      <td>Master's degree</td>\n",
       "      <td>Computer science or software engineering</td>\n",
       "      <td>Never</td>\n",
       "      <td>10 to 19 employees</td>\n",
       "      <td>...</td>\n",
       "      <td>NaN</td>\n",
       "      <td>NaN</td>\n",
       "      <td>NaN</td>\n",
       "      <td>NaN</td>\n",
       "      <td>NaN</td>\n",
       "      <td>NaN</td>\n",
       "      <td>NaN</td>\n",
       "      <td>NaN</td>\n",
       "      <td>NaN</td>\n",
       "      <td>NaN</td>\n",
       "    </tr>\n",
       "  </tbody>\n",
       "</table>\n",
       "<p>5 rows × 154 columns</p>\n",
       "</div>"
      ],
      "text/plain": [
       "   Respondent                                       Professional  \\\n",
       "0           1                                            Student   \n",
       "1           2                                            Student   \n",
       "2           3                             Professional developer   \n",
       "3           4  Professional non-developer who sometimes write...   \n",
       "4           5                             Professional developer   \n",
       "\n",
       "                ProgramHobby         Country      University  \\\n",
       "0                  Yes, both   United States              No   \n",
       "1                  Yes, both  United Kingdom  Yes, full-time   \n",
       "2                  Yes, both  United Kingdom              No   \n",
       "3                  Yes, both   United States              No   \n",
       "4  Yes, I program as a hobby     Switzerland              No   \n",
       "\n",
       "                         EmploymentStatus  \\\n",
       "0  Not employed, and not looking for work   \n",
       "1                      Employed part-time   \n",
       "2                      Employed full-time   \n",
       "3                      Employed full-time   \n",
       "4                      Employed full-time   \n",
       "\n",
       "                                     FormalEducation  \\\n",
       "0                                   Secondary school   \n",
       "1  Some college/university study without earning ...   \n",
       "2                                  Bachelor's degree   \n",
       "3                                    Doctoral degree   \n",
       "4                                    Master's degree   \n",
       "\n",
       "                                  MajorUndergrad  \\\n",
       "0                                            NaN   \n",
       "1       Computer science or software engineering   \n",
       "2       Computer science or software engineering   \n",
       "3  A non-computer-focused engineering discipline   \n",
       "4       Computer science or software engineering   \n",
       "\n",
       "                                          HomeRemote  \\\n",
       "0                                                NaN   \n",
       "1              More than half, but not all, the time   \n",
       "2  Less than half the time, but at least one day ...   \n",
       "3  Less than half the time, but at least one day ...   \n",
       "4                                              Never   \n",
       "\n",
       "                CompanySize  ... StackOverflowMakeMoney Gender  \\\n",
       "0                       NaN  ...      Strongly disagree   Male   \n",
       "1        20 to 99 employees  ...      Strongly disagree   Male   \n",
       "2  10,000 or more employees  ...               Disagree   Male   \n",
       "3  10,000 or more employees  ...               Disagree   Male   \n",
       "4        10 to 19 employees  ...                    NaN    NaN   \n",
       "\n",
       "  HighestEducationParents                          Race         SurveyLong  \\\n",
       "0             High school  White or of European descent  Strongly disagree   \n",
       "1       A master's degree  White or of European descent     Somewhat agree   \n",
       "2   A professional degree  White or of European descent     Somewhat agree   \n",
       "3       A doctoral degree  White or of European descent              Agree   \n",
       "4                     NaN                           NaN                NaN   \n",
       "\n",
       "  QuestionsInteresting QuestionsConfusing InterestedAnswers    Salary  \\\n",
       "0       Strongly agree           Disagree    Strongly agree       NaN   \n",
       "1       Somewhat agree           Disagree    Strongly agree       NaN   \n",
       "2                Agree           Disagree             Agree  113750.0   \n",
       "3                Agree     Somewhat agree    Strongly agree       NaN   \n",
       "4                  NaN                NaN               NaN       NaN   \n",
       "\n",
       "   ExpectedSalary  \n",
       "0             NaN  \n",
       "1         37500.0  \n",
       "2             NaN  \n",
       "3             NaN  \n",
       "4             NaN  \n",
       "\n",
       "[5 rows x 154 columns]"
      ]
     },
     "execution_count": 122,
     "metadata": {},
     "output_type": "execute_result"
    }
   ],
   "source": [
    "'''Import necessary libaries and load the data'''\n",
    "\n",
    "import numpy as np\n",
    "import pandas as pd\n",
    "import pycountry_convert as pc\n",
    "import matplotlib.pyplot as plt\n",
    "from matplotlib import pyplot\n",
    "%matplotlib inline\n",
    "\n",
    "df = pd.read_csv('./survey_results_public.csv')\n",
    "df.head()"
   ]
  },
  {
   "cell_type": "markdown",
   "id": "526b97cb",
   "metadata": {},
   "source": [
    "#### Section 3 Data Preparation"
   ]
  },
  {
   "cell_type": "code",
   "execution_count": 123,
   "id": "8ab39017",
   "metadata": {},
   "outputs": [],
   "source": [
    "def findContinent(country_name):\n",
    "    '''Functions finds continent for given country.'''\n",
    "    try:\n",
    "        country_alpha2 = pc.country_name_to_country_alpha2(country_name)\n",
    "        country_continent_code = pc.country_alpha2_to_continent_code(country_alpha2)\n",
    "        country_continent_name = pc.convert_continent_code_to_continent_name(country_continent_code)\n",
    "        return country_continent_name\n",
    "    #pycountry.countries.get(name=country_name).alpha_2\n",
    "    except:\n",
    "        return (\"not founded!\")\n",
    "    \n",
    "# Add column 'continent'\n",
    "df['continent'] = df.apply(lambda row: findContinent(row.Country) , axis = 1)"
   ]
  },
  {
   "cell_type": "code",
   "execution_count": 3,
   "id": "bea1a693",
   "metadata": {},
   "outputs": [
    {
     "data": {
      "text/plain": [
       "{'Country',\n",
       " 'EmploymentStatus',\n",
       " 'FormalEducation',\n",
       " 'Professional',\n",
       " 'ProgramHobby',\n",
       " 'Respondent',\n",
       " 'University',\n",
       " 'continent'}"
      ]
     },
     "execution_count": 3,
     "metadata": {},
     "output_type": "execute_result"
    }
   ],
   "source": [
    "#Which columns had no missing values?\n",
    "no_nulls = set(df.columns[df.isnull().mean()==0])\n",
    "no_nulls"
   ]
  },
  {
   "cell_type": "code",
   "execution_count": 4,
   "id": "b226f645",
   "metadata": {},
   "outputs": [
    {
     "data": {
      "image/png": "[encoded data removed]",
      "text/plain": [
       "<Figure size 432x288 with 1 Axes>"
      ]
     },
     "metadata": {
      "needs_background": "light"
     },
     "output_type": "display_data"
    }
   ],
   "source": [
    "#bar chart of the proportion of individuals in each country\n",
    "\n",
    "country_vals = df.Country.value_counts()#Provide a pandas series of the counts for each country\n",
    "\n",
    "(country_vals/df.shape[0]).plot(kind=\"bar\");\n",
    "plt.title(\"Where are you from?\");"
   ]
  },
  {
   "cell_type": "code",
   "execution_count": 5,
   "id": "b2e6b7e9",
   "metadata": {},
   "outputs": [
    {
     "data": {
      "text/plain": [
       "{'ExCoder10Years',\n",
       " 'ExCoderActive',\n",
       " 'ExCoderBalance',\n",
       " 'ExCoderBelonged',\n",
       " 'ExCoderNotForMe',\n",
       " 'ExCoderReturn',\n",
       " 'ExCoderSkills',\n",
       " 'ExCoderWillNotCode',\n",
       " 'ExpectedSalary',\n",
       " 'MobileDeveloperType',\n",
       " 'NonDeveloperType',\n",
       " 'TimeAfterBootcamp',\n",
       " 'WebDeveloperType',\n",
       " 'YearsCodedJobPast'}"
      ]
     },
     "execution_count": 5,
     "metadata": {},
     "output_type": "execute_result"
    }
   ],
   "source": [
    "#Which columns have the most missing values\n",
    "most_missing_cols = set(df.columns[df.isnull().mean() > 0.75])\n",
    "most_missing_cols"
   ]
  },
  {
   "cell_type": "code",
   "execution_count": 6,
   "id": "b96aa7c5",
   "metadata": {},
   "outputs": [
    {
     "data": {
      "text/html": [
       "<div>\n",
       "<style scoped>\n",
       "    .dataframe tbody tr th:only-of-type {\n",
       "        vertical-align: middle;\n",
       "    }\n",
       "\n",
       "    .dataframe tbody tr th {\n",
       "        vertical-align: top;\n",
       "    }\n",
       "\n",
       "    .dataframe thead th {\n",
       "        text-align: right;\n",
       "    }\n",
       "</style>\n",
       "<table border=\"1\" class=\"dataframe\">\n",
       "  <thead>\n",
       "    <tr style=\"text-align: right;\">\n",
       "      <th></th>\n",
       "      <th>Respondent</th>\n",
       "      <th>CareerSatisfaction</th>\n",
       "      <th>JobSatisfaction</th>\n",
       "      <th>HoursPerWeek</th>\n",
       "      <th>StackOverflowSatisfaction</th>\n",
       "      <th>Salary</th>\n",
       "      <th>ExpectedSalary</th>\n",
       "    </tr>\n",
       "  </thead>\n",
       "  <tbody>\n",
       "    <tr>\n",
       "      <th>count</th>\n",
       "      <td>51392.000000</td>\n",
       "      <td>42695.000000</td>\n",
       "      <td>40376.000000</td>\n",
       "      <td>20600.000000</td>\n",
       "      <td>36592.000000</td>\n",
       "      <td>12891.000000</td>\n",
       "      <td>2566.000000</td>\n",
       "    </tr>\n",
       "    <tr>\n",
       "      <th>mean</th>\n",
       "      <td>25696.500000</td>\n",
       "      <td>7.300574</td>\n",
       "      <td>6.957078</td>\n",
       "      <td>3.952282</td>\n",
       "      <td>8.429875</td>\n",
       "      <td>56298.480641</td>\n",
       "      <td>33142.220468</td>\n",
       "    </tr>\n",
       "    <tr>\n",
       "      <th>std</th>\n",
       "      <td>14835.736854</td>\n",
       "      <td>1.955444</td>\n",
       "      <td>2.167652</td>\n",
       "      <td>7.564722</td>\n",
       "      <td>1.390635</td>\n",
       "      <td>39880.905277</td>\n",
       "      <td>30162.988829</td>\n",
       "    </tr>\n",
       "    <tr>\n",
       "      <th>min</th>\n",
       "      <td>1.000000</td>\n",
       "      <td>0.000000</td>\n",
       "      <td>0.000000</td>\n",
       "      <td>0.000000</td>\n",
       "      <td>0.000000</td>\n",
       "      <td>0.000000</td>\n",
       "      <td>0.000000</td>\n",
       "    </tr>\n",
       "    <tr>\n",
       "      <th>25%</th>\n",
       "      <td>12848.750000</td>\n",
       "      <td>6.000000</td>\n",
       "      <td>6.000000</td>\n",
       "      <td>1.000000</td>\n",
       "      <td>8.000000</td>\n",
       "      <td>26440.371839</td>\n",
       "      <td>4490.492484</td>\n",
       "    </tr>\n",
       "    <tr>\n",
       "      <th>50%</th>\n",
       "      <td>25696.500000</td>\n",
       "      <td>8.000000</td>\n",
       "      <td>7.000000</td>\n",
       "      <td>1.000000</td>\n",
       "      <td>9.000000</td>\n",
       "      <td>50000.000000</td>\n",
       "      <td>29364.263691</td>\n",
       "    </tr>\n",
       "    <tr>\n",
       "      <th>75%</th>\n",
       "      <td>38544.250000</td>\n",
       "      <td>9.000000</td>\n",
       "      <td>8.000000</td>\n",
       "      <td>4.000000</td>\n",
       "      <td>10.000000</td>\n",
       "      <td>80000.000000</td>\n",
       "      <td>50403.225806</td>\n",
       "    </tr>\n",
       "    <tr>\n",
       "      <th>max</th>\n",
       "      <td>51392.000000</td>\n",
       "      <td>10.000000</td>\n",
       "      <td>10.000000</td>\n",
       "      <td>40.000000</td>\n",
       "      <td>10.000000</td>\n",
       "      <td>197000.000000</td>\n",
       "      <td>187500.000000</td>\n",
       "    </tr>\n",
       "  </tbody>\n",
       "</table>\n",
       "</div>"
      ],
      "text/plain": [
       "         Respondent  CareerSatisfaction  JobSatisfaction  HoursPerWeek  \\\n",
       "count  51392.000000        42695.000000     40376.000000  20600.000000   \n",
       "mean   25696.500000            7.300574         6.957078      3.952282   \n",
       "std    14835.736854            1.955444         2.167652      7.564722   \n",
       "min        1.000000            0.000000         0.000000      0.000000   \n",
       "25%    12848.750000            6.000000         6.000000      1.000000   \n",
       "50%    25696.500000            8.000000         7.000000      1.000000   \n",
       "75%    38544.250000            9.000000         8.000000      4.000000   \n",
       "max    51392.000000           10.000000        10.000000     40.000000   \n",
       "\n",
       "       StackOverflowSatisfaction         Salary  ExpectedSalary  \n",
       "count               36592.000000   12891.000000     2566.000000  \n",
       "mean                    8.429875   56298.480641    33142.220468  \n",
       "std                     1.390635   39880.905277    30162.988829  \n",
       "min                     0.000000       0.000000        0.000000  \n",
       "25%                     8.000000   26440.371839     4490.492484  \n",
       "50%                     9.000000   50000.000000    29364.263691  \n",
       "75%                    10.000000   80000.000000    50403.225806  \n",
       "max                    10.000000  197000.000000   187500.000000  "
      ]
     },
     "execution_count": 6,
     "metadata": {},
     "output_type": "execute_result"
    }
   ],
   "source": [
    "df.describe()"
   ]
  },
  {
   "cell_type": "code",
   "execution_count": 7,
   "id": "0b30f3f6",
   "metadata": {},
   "outputs": [
    {
     "name": "stdout",
     "output_type": "stream",
     "text": [
      "<class 'pandas.core.frame.DataFrame'>\n",
      "RangeIndex: 51392 entries, 0 to 51391\n",
      "Data columns (total 155 columns):\n",
      " #    Column                            Non-Null Count  Dtype  \n",
      "---   ------                            --------------  -----  \n",
      " 0    Respondent                        51392 non-null  int64  \n",
      " 1    Professional                      51392 non-null  object \n",
      " 2    ProgramHobby                      51392 non-null  object \n",
      " 3    Country                           51392 non-null  object \n",
      " 4    University                        51392 non-null  object \n",
      " 5    EmploymentStatus                  51392 non-null  object \n",
      " 6    FormalEducation                   51392 non-null  object \n",
      " 7    MajorUndergrad                    42841 non-null  object \n",
      " 8    HomeRemote                        44008 non-null  object \n",
      " 9    CompanySize                       38922 non-null  object \n",
      " 10   CompanyType                       38823 non-null  object \n",
      " 11   YearsProgram                      51145 non-null  object \n",
      " 12   YearsCodedJob                     40890 non-null  object \n",
      " 13   YearsCodedJobPast                 974 non-null    object \n",
      " 14   DeveloperType                     36125 non-null  object \n",
      " 15   WebDeveloperType                  10696 non-null  object \n",
      " 16   MobileDeveloperType               1553 non-null   object \n",
      " 17   NonDeveloperType                  4890 non-null   object \n",
      " 18   CareerSatisfaction                42695 non-null  float64\n",
      " 19   JobSatisfaction                   40376 non-null  float64\n",
      " 20   ExCoderReturn                     923 non-null    object \n",
      " 21   ExCoderNotForMe                   921 non-null    object \n",
      " 22   ExCoderBalance                    923 non-null    object \n",
      " 23   ExCoder10Years                    917 non-null    object \n",
      " 24   ExCoderBelonged                   928 non-null    object \n",
      " 25   ExCoderSkills                     935 non-null    object \n",
      " 26   ExCoderWillNotCode                922 non-null    object \n",
      " 27   ExCoderActive                     930 non-null    object \n",
      " 28   PronounceGIF                      51008 non-null  object \n",
      " 29   ProblemSolving                    31293 non-null  object \n",
      " 30   BuildingThings                    31234 non-null  object \n",
      " 31   LearningNewTech                   31304 non-null  object \n",
      " 32   BoringDetails                     31184 non-null  object \n",
      " 33   JobSecurity                       31240 non-null  object \n",
      " 34   DiversityImportant                30903 non-null  object \n",
      " 35   AnnoyingUI                        31021 non-null  object \n",
      " 36   FriendsDevelopers                 31057 non-null  object \n",
      " 37   RightWrongWay                     30984 non-null  object \n",
      " 38   UnderstandComputers               31047 non-null  object \n",
      " 39   SeriousWork                       31014 non-null  object \n",
      " 40   InvestTimeTools                   30886 non-null  object \n",
      " 41   WorkPayCare                       30965 non-null  object \n",
      " 42   KinshipDevelopers                 30702 non-null  object \n",
      " 43   ChallengeMyself                   30971 non-null  object \n",
      " 44   CompetePeers                      30810 non-null  object \n",
      " 45   ChangeWorld                       30935 non-null  object \n",
      " 46   JobSeekingStatus                  33380 non-null  object \n",
      " 47   HoursPerWeek                      20600 non-null  float64\n",
      " 48   LastNewJob                        32710 non-null  object \n",
      " 49   AssessJobIndustry                 22130 non-null  object \n",
      " 50   AssessJobRole                     22147 non-null  object \n",
      " 51   AssessJobExp                      22136 non-null  object \n",
      " 52   AssessJobDept                     22123 non-null  object \n",
      " 53   AssessJobTech                     22189 non-null  object \n",
      " 54   AssessJobProjects                 22183 non-null  object \n",
      " 55   AssessJobCompensation             22146 non-null  object \n",
      " 56   AssessJobOffice                   22004 non-null  object \n",
      " 57   AssessJobCommute                  21973 non-null  object \n",
      " 58   AssessJobRemote                   22020 non-null  object \n",
      " 59   AssessJobLeaders                  21986 non-null  object \n",
      " 60   AssessJobProfDevel                21998 non-null  object \n",
      " 61   AssessJobDiversity                21978 non-null  object \n",
      " 62   AssessJobProduct                  21997 non-null  object \n",
      " 63   AssessJobFinances                 22023 non-null  object \n",
      " 64   ImportantBenefits                 30235 non-null  object \n",
      " 65   ClickyKeys                        42046 non-null  object \n",
      " 66   JobProfile                        24719 non-null  object \n",
      " 67   ResumePrompted                    22461 non-null  object \n",
      " 68   LearnedHiring                     23737 non-null  object \n",
      " 69   ImportantHiringAlgorithms         28642 non-null  object \n",
      " 70   ImportantHiringTechExp            28694 non-null  object \n",
      " 71   ImportantHiringCommunication      28639 non-null  object \n",
      " 72   ImportantHiringOpenSource         28596 non-null  object \n",
      " 73   ImportantHiringPMExp              28617 non-null  object \n",
      " 74   ImportantHiringCompanies          28553 non-null  object \n",
      " 75   ImportantHiringTitles             28553 non-null  object \n",
      " 76   ImportantHiringEducation          28663 non-null  object \n",
      " 77   ImportantHiringRep                28618 non-null  object \n",
      " 78   ImportantHiringGettingThingsDone  28545 non-null  object \n",
      " 79   Currency                          21408 non-null  object \n",
      " 80   Overpaid                          13387 non-null  object \n",
      " 81   TabsSpaces                        38851 non-null  object \n",
      " 82   EducationImportant                23355 non-null  object \n",
      " 83   EducationTypes                    30354 non-null  object \n",
      " 84   SelfTaughtTypes                   26735 non-null  object \n",
      " 85   TimeAfterBootcamp                 2602 non-null   object \n",
      " 86   CousinEducation                   23568 non-null  object \n",
      " 87   WorkStart                         36696 non-null  object \n",
      " 88   HaveWorkedLanguage                36625 non-null  object \n",
      " 89   WantWorkLanguage                  33771 non-null  object \n",
      " 90   HaveWorkedFramework               20229 non-null  object \n",
      " 91   WantWorkFramework                 23331 non-null  object \n",
      " 92   HaveWorkedDatabase                29452 non-null  object \n",
      " 93   WantWorkDatabase                  25109 non-null  object \n",
      " 94   HaveWorkedPlatform                29114 non-null  object \n",
      " 95   WantWorkPlatform                  27884 non-null  object \n",
      " 96   IDE                               35830 non-null  object \n",
      " 97   AuditoryEnvironment               36457 non-null  object \n",
      " 98   Methodology                       25771 non-null  object \n",
      " 99   VersionControl                    30730 non-null  object \n",
      " 100  CheckInCode                       29561 non-null  object \n",
      " 101  ShipIt                            29641 non-null  object \n",
      " 102  OtherPeoplesCode                  29619 non-null  object \n",
      " 103  ProjectManagement                 29399 non-null  object \n",
      " 104  EnjoyDebugging                    29765 non-null  object \n",
      " 105  InTheZone                         29350 non-null  object \n",
      " 106  DifficultCommunication            29640 non-null  object \n",
      " 107  CollaborateRemote                 29457 non-null  object \n",
      " 108  MetricAssess                      25472 non-null  object \n",
      " 109  EquipmentSatisfiedMonitors        29725 non-null  object \n",
      " 110  EquipmentSatisfiedCPU             29727 non-null  object \n",
      " 111  EquipmentSatisfiedRAM             29736 non-null  object \n",
      " 112  EquipmentSatisfiedStorage         29671 non-null  object \n",
      " 113  EquipmentSatisfiedRW              29689 non-null  object \n",
      " 114  InfluenceInternet                 29691 non-null  object \n",
      " 115  InfluenceWorkstation              21658 non-null  object \n",
      " 116  InfluenceHardware                 21659 non-null  object \n",
      " 117  InfluenceServers                  21584 non-null  object \n",
      " 118  InfluenceTechStack                21601 non-null  object \n",
      " 119  InfluenceDeptTech                 21593 non-null  object \n",
      " 120  InfluenceVizTools                 21613 non-null  object \n",
      " 121  InfluenceDatabase                 21616 non-null  object \n",
      " 122  InfluenceCloud                    21595 non-null  object \n",
      " 123  InfluenceConsultants              21545 non-null  object \n",
      " 124  InfluenceRecruitment              21586 non-null  object \n",
      " 125  InfluenceCommunication            21578 non-null  object \n",
      " 126  StackOverflowDescribes            36932 non-null  object \n",
      " 127  StackOverflowSatisfaction         36592 non-null  float64\n",
      " 128  StackOverflowDevices              35203 non-null  object \n",
      " 129  StackOverflowFoundAnswer          34290 non-null  object \n",
      " 130  StackOverflowCopiedCode           33909 non-null  object \n",
      " 131  StackOverflowJobListing           33468 non-null  object \n",
      " 132  StackOverflowCompanyPage          33435 non-null  object \n",
      " 133  StackOverflowJobSearch            33415 non-null  object \n",
      " 134  StackOverflowNewQuestion          33618 non-null  object \n",
      " 135  StackOverflowAnswer               33556 non-null  object \n",
      " 136  StackOverflowMetaChat             33407 non-null  object \n",
      " 137  StackOverflowAdsRelevant          30817 non-null  object \n",
      " 138  StackOverflowAdsDistracting       31737 non-null  object \n",
      " 139  StackOverflowModeration           30129 non-null  object \n",
      " 140  StackOverflowCommunity            32410 non-null  object \n",
      " 141  StackOverflowHelpful              33946 non-null  object \n",
      " 142  StackOverflowBetter               33650 non-null  object \n",
      " 143  StackOverflowWhatDo               33369 non-null  object \n",
      " 144  StackOverflowMakeMoney            31062 non-null  object \n",
      " 145  Gender                            35047 non-null  object \n",
      " 146  HighestEducationParents           34938 non-null  object \n",
      " 147  Race                              33033 non-null  object \n",
      " 148  SurveyLong                        34720 non-null  object \n",
      " 149  QuestionsInteresting              34536 non-null  object \n",
      " 150  QuestionsConfusing                34419 non-null  object \n",
      " 151  InterestedAnswers                 34612 non-null  object \n",
      " 152  Salary                            12891 non-null  float64\n",
      " 153  ExpectedSalary                    2566 non-null   float64\n",
      " 154  continent                         51392 non-null  object \n",
      "dtypes: float64(6), int64(1), object(148)\n",
      "memory usage: 60.8+ MB\n"
     ]
    }
   ],
   "source": [
    "df.info(verbose=True,show_counts=True)"
   ]
  },
  {
   "cell_type": "code",
   "execution_count": 8,
   "id": "f23aa0e2",
   "metadata": {},
   "outputs": [
    {
     "data": {
      "image/png": "[encoded data removed]",
      "text/plain": [
       "<Figure size 432x288 with 1 Axes>"
      ]
     },
     "metadata": {
      "needs_background": "light"
     },
     "output_type": "display_data"
    }
   ],
   "source": [
    "#bar chart of the proportion of individuals in each country\n",
    "\n",
    "continent_vals = df.continent.value_counts()#Provide a pandas series of the counts for each country\n",
    "\n",
    "(continent_vals/df.shape[0]).plot(kind=\"bar\");\n",
    "plt.title(\"Where are you from?\");"
   ]
  },
  {
   "cell_type": "code",
   "execution_count": 11,
   "id": "b0388b3b",
   "metadata": {},
   "outputs": [
    {
     "data": {
      "image/png": "[encoded data removed]",
      "text/plain": [
       "<Figure size 432x288 with 1 Axes>"
      ]
     },
     "metadata": {
      "needs_background": "light"
     },
     "output_type": "display_data"
    }
   ],
   "source": [
    "europe_vals=df[df[\"continent\"] =='Europe'].Country.value_counts()\n",
    "(europe_vals/df.shape[0]).plot(kind=\"bar\");\n",
    "plt.title(\"Where are you from?\");"
   ]
  },
  {
   "cell_type": "code",
   "execution_count": 124,
   "id": "4d2d04bd",
   "metadata": {},
   "outputs": [],
   "source": [
    "# add column with number of programing languages worked\n",
    "df['NumberLanguageWorked'] = df['HaveWorkedLanguage'].str.count(' ').add(1)"
   ]
  },
  {
   "cell_type": "code",
   "execution_count": 50,
   "id": "36bfa405",
   "metadata": {},
   "outputs": [
    {
     "data": {
      "text/html": [
       "<div>\n",
       "<style scoped>\n",
       "    .dataframe tbody tr th:only-of-type {\n",
       "        vertical-align: middle;\n",
       "    }\n",
       "\n",
       "    .dataframe tbody tr th {\n",
       "        vertical-align: top;\n",
       "    }\n",
       "\n",
       "    .dataframe thead th {\n",
       "        text-align: right;\n",
       "    }\n",
       "</style>\n",
       "<table border=\"1\" class=\"dataframe\">\n",
       "  <thead>\n",
       "    <tr style=\"text-align: right;\">\n",
       "      <th></th>\n",
       "      <th>HaveWorkedLanguage</th>\n",
       "      <th>NumberLanguageWorked</th>\n",
       "    </tr>\n",
       "  </thead>\n",
       "  <tbody>\n",
       "    <tr>\n",
       "      <th>0</th>\n",
       "      <td>Swift</td>\n",
       "      <td>1.0</td>\n",
       "    </tr>\n",
       "    <tr>\n",
       "      <th>1</th>\n",
       "      <td>JavaScript; Python; Ruby; SQL</td>\n",
       "      <td>4.0</td>\n",
       "    </tr>\n",
       "    <tr>\n",
       "      <th>2</th>\n",
       "      <td>Java; PHP; Python</td>\n",
       "      <td>3.0</td>\n",
       "    </tr>\n",
       "  </tbody>\n",
       "</table>\n",
       "</div>"
      ],
      "text/plain": [
       "              HaveWorkedLanguage  NumberLanguageWorked\n",
       "0                          Swift                   1.0\n",
       "1  JavaScript; Python; Ruby; SQL                   4.0\n",
       "2              Java; PHP; Python                   3.0"
      ]
     },
     "execution_count": 50,
     "metadata": {},
     "output_type": "execute_result"
    }
   ],
   "source": [
    "# check if above works\n",
    "df[['HaveWorkedLanguage', 'NumberLanguageWorked']].head(3)"
   ]
  },
  {
   "cell_type": "markdown",
   "id": "22f86ead",
   "metadata": {},
   "source": [
    "#### Section 4 Evaluation"
   ]
  },
  {
   "cell_type": "markdown",
   "id": "ec63a4d8",
   "metadata": {},
   "source": [
    "##### Question I: More programming languages you know - more you earn?"
   ]
  },
  {
   "cell_type": "markdown",
   "id": "5bcc9ed5",
   "metadata": {},
   "source": [
    "##### Analyze"
   ]
  },
  {
   "cell_type": "code",
   "execution_count": 141,
   "id": "b77bff0f",
   "metadata": {},
   "outputs": [],
   "source": [
    "df_q1=df.copy()"
   ]
  },
  {
   "cell_type": "code",
   "execution_count": 130,
   "id": "3e2e8889",
   "metadata": {},
   "outputs": [
    {
     "data": {
      "text/html": [
       "<div>\n",
       "<style scoped>\n",
       "    .dataframe tbody tr th:only-of-type {\n",
       "        vertical-align: middle;\n",
       "    }\n",
       "\n",
       "    .dataframe tbody tr th {\n",
       "        vertical-align: top;\n",
       "    }\n",
       "\n",
       "    .dataframe thead th {\n",
       "        text-align: right;\n",
       "    }\n",
       "</style>\n",
       "<table border=\"1\" class=\"dataframe\">\n",
       "  <thead>\n",
       "    <tr style=\"text-align: right;\">\n",
       "      <th></th>\n",
       "      <th>0</th>\n",
       "      <th>1</th>\n",
       "      <th>2</th>\n",
       "      <th>3</th>\n",
       "      <th>4</th>\n",
       "      <th>5</th>\n",
       "      <th>6</th>\n",
       "      <th>7</th>\n",
       "      <th>8</th>\n",
       "      <th>9</th>\n",
       "      <th>...</th>\n",
       "      <th>25</th>\n",
       "      <th>26</th>\n",
       "      <th>27</th>\n",
       "      <th>28</th>\n",
       "      <th>29</th>\n",
       "      <th>30</th>\n",
       "      <th>31</th>\n",
       "      <th>32</th>\n",
       "      <th>33</th>\n",
       "      <th>34</th>\n",
       "    </tr>\n",
       "  </thead>\n",
       "  <tbody>\n",
       "    <tr>\n",
       "      <th>0</th>\n",
       "      <td>Swift</td>\n",
       "      <td>None</td>\n",
       "      <td>None</td>\n",
       "      <td>None</td>\n",
       "      <td>None</td>\n",
       "      <td>None</td>\n",
       "      <td>None</td>\n",
       "      <td>None</td>\n",
       "      <td>None</td>\n",
       "      <td>None</td>\n",
       "      <td>...</td>\n",
       "      <td>None</td>\n",
       "      <td>None</td>\n",
       "      <td>None</td>\n",
       "      <td>None</td>\n",
       "      <td>None</td>\n",
       "      <td>None</td>\n",
       "      <td>None</td>\n",
       "      <td>None</td>\n",
       "      <td>None</td>\n",
       "      <td>None</td>\n",
       "    </tr>\n",
       "    <tr>\n",
       "      <th>1</th>\n",
       "      <td>JavaScript</td>\n",
       "      <td>Python</td>\n",
       "      <td>Ruby</td>\n",
       "      <td>SQL</td>\n",
       "      <td>None</td>\n",
       "      <td>None</td>\n",
       "      <td>None</td>\n",
       "      <td>None</td>\n",
       "      <td>None</td>\n",
       "      <td>None</td>\n",
       "      <td>...</td>\n",
       "      <td>None</td>\n",
       "      <td>None</td>\n",
       "      <td>None</td>\n",
       "      <td>None</td>\n",
       "      <td>None</td>\n",
       "      <td>None</td>\n",
       "      <td>None</td>\n",
       "      <td>None</td>\n",
       "      <td>None</td>\n",
       "      <td>None</td>\n",
       "    </tr>\n",
       "    <tr>\n",
       "      <th>2</th>\n",
       "      <td>Java</td>\n",
       "      <td>PHP</td>\n",
       "      <td>Python</td>\n",
       "      <td>None</td>\n",
       "      <td>None</td>\n",
       "      <td>None</td>\n",
       "      <td>None</td>\n",
       "      <td>None</td>\n",
       "      <td>None</td>\n",
       "      <td>None</td>\n",
       "      <td>...</td>\n",
       "      <td>None</td>\n",
       "      <td>None</td>\n",
       "      <td>None</td>\n",
       "      <td>None</td>\n",
       "      <td>None</td>\n",
       "      <td>None</td>\n",
       "      <td>None</td>\n",
       "      <td>None</td>\n",
       "      <td>None</td>\n",
       "      <td>None</td>\n",
       "    </tr>\n",
       "  </tbody>\n",
       "</table>\n",
       "<p>3 rows × 35 columns</p>\n",
       "</div>"
      ],
      "text/plain": [
       "           0        1        2     3     4     5     6     7     8     9   \\\n",
       "0       Swift     None     None  None  None  None  None  None  None  None   \n",
       "1  JavaScript   Python     Ruby   SQL  None  None  None  None  None  None   \n",
       "2        Java      PHP   Python  None  None  None  None  None  None  None   \n",
       "\n",
       "   ...    25    26    27    28    29    30    31    32    33    34  \n",
       "0  ...  None  None  None  None  None  None  None  None  None  None  \n",
       "1  ...  None  None  None  None  None  None  None  None  None  None  \n",
       "2  ...  None  None  None  None  None  None  None  None  None  None  \n",
       "\n",
       "[3 rows x 35 columns]"
      ]
     },
     "execution_count": 130,
     "metadata": {},
     "output_type": "execute_result"
    }
   ],
   "source": [
    "# testing: add each programing language to separate column\n",
    "df_q1[\"HaveWorkedLanguage\"].str.split(';', expand=True).head(3)"
   ]
  },
  {
   "cell_type": "code",
   "execution_count": 131,
   "id": "6d16adc1",
   "metadata": {},
   "outputs": [
    {
     "data": {
      "text/plain": [
       "JavaScript    22875\n",
       "SQL           18754\n",
       "Java          14524\n",
       "C#            12476\n",
       "Python        11704\n",
       "dtype: int64"
      ]
     },
     "execution_count": 131,
     "metadata": {},
     "output_type": "execute_result"
    }
   ],
   "source": [
    "# testing: programing languages popularity\n",
    "df_q1.HaveWorkedLanguage.str.split(';\\s+', expand=True).stack().value_counts().head(5)"
   ]
  },
  {
   "cell_type": "code",
   "execution_count": 132,
   "id": "5ecac36d",
   "metadata": {},
   "outputs": [
    {
     "data": {
      "text/plain": [
       "<AxesSubplot:title={'center':'NumberLanguageWorked ~ mean Salary'}, xlabel='NumberLanguageWorked'>"
      ]
     },
     "execution_count": 132,
     "metadata": {},
     "output_type": "execute_result"
    },
    {
     "data": {
      "image/png": "[encoded data removed]",
      "text/plain": [
       "<Figure size 432x288 with 1 Axes>"
      ]
     },
     "metadata": {
      "needs_background": "light"
     },
     "output_type": "display_data"
    }
   ],
   "source": [
    "df_q1.groupby('NumberLanguageWorked')['Salary'].mean().plot(title='NumberLanguageWorked ~ mean Salary')"
   ]
  },
  {
   "cell_type": "markdown",
   "id": "4dfc80d2",
   "metadata": {},
   "source": [
    "Drop the missing values of the response (Salary) - store this in drop_sal_df, then impute the values for all the other missing values with the mean of the column - store this in fill_df."
   ]
  },
  {
   "cell_type": "code",
   "execution_count": 133,
   "id": "ac7e40db",
   "metadata": {},
   "outputs": [
    {
     "data": {
      "text/html": [
       "<div>\n",
       "<style scoped>\n",
       "    .dataframe tbody tr th:only-of-type {\n",
       "        vertical-align: middle;\n",
       "    }\n",
       "\n",
       "    .dataframe tbody tr th {\n",
       "        vertical-align: top;\n",
       "    }\n",
       "\n",
       "    .dataframe thead th {\n",
       "        text-align: right;\n",
       "    }\n",
       "</style>\n",
       "<table border=\"1\" class=\"dataframe\">\n",
       "  <thead>\n",
       "    <tr style=\"text-align: right;\">\n",
       "      <th></th>\n",
       "      <th>Respondent</th>\n",
       "      <th>Professional</th>\n",
       "      <th>ProgramHobby</th>\n",
       "      <th>Country</th>\n",
       "      <th>University</th>\n",
       "      <th>EmploymentStatus</th>\n",
       "      <th>FormalEducation</th>\n",
       "      <th>MajorUndergrad</th>\n",
       "      <th>HomeRemote</th>\n",
       "      <th>CompanySize</th>\n",
       "      <th>...</th>\n",
       "      <th>HighestEducationParents</th>\n",
       "      <th>Race</th>\n",
       "      <th>SurveyLong</th>\n",
       "      <th>QuestionsInteresting</th>\n",
       "      <th>QuestionsConfusing</th>\n",
       "      <th>InterestedAnswers</th>\n",
       "      <th>Salary</th>\n",
       "      <th>ExpectedSalary</th>\n",
       "      <th>continent</th>\n",
       "      <th>NumberLanguageWorked</th>\n",
       "    </tr>\n",
       "  </thead>\n",
       "  <tbody>\n",
       "    <tr>\n",
       "      <th>2</th>\n",
       "      <td>3</td>\n",
       "      <td>Professional developer</td>\n",
       "      <td>Yes, both</td>\n",
       "      <td>United Kingdom</td>\n",
       "      <td>No</td>\n",
       "      <td>Employed full-time</td>\n",
       "      <td>Bachelor's degree</td>\n",
       "      <td>Computer science or software engineering</td>\n",
       "      <td>Less than half the time, but at least one day ...</td>\n",
       "      <td>10,000 or more employees</td>\n",
       "      <td>...</td>\n",
       "      <td>A professional degree</td>\n",
       "      <td>White or of European descent</td>\n",
       "      <td>Somewhat agree</td>\n",
       "      <td>Agree</td>\n",
       "      <td>Disagree</td>\n",
       "      <td>Agree</td>\n",
       "      <td>113750.0</td>\n",
       "      <td>NaN</td>\n",
       "      <td>Europe</td>\n",
       "      <td>3.0</td>\n",
       "    </tr>\n",
       "    <tr>\n",
       "      <th>14</th>\n",
       "      <td>15</td>\n",
       "      <td>Professional developer</td>\n",
       "      <td>Yes, I program as a hobby</td>\n",
       "      <td>United Kingdom</td>\n",
       "      <td>No</td>\n",
       "      <td>Employed full-time</td>\n",
       "      <td>Professional degree</td>\n",
       "      <td>Computer engineering or electrical/electronics...</td>\n",
       "      <td>All or almost all the time (I'm full-time remote)</td>\n",
       "      <td>5,000 to 9,999 employees</td>\n",
       "      <td>...</td>\n",
       "      <td>High school</td>\n",
       "      <td>White or of European descent</td>\n",
       "      <td>Somewhat agree</td>\n",
       "      <td>Agree</td>\n",
       "      <td>Disagree</td>\n",
       "      <td>Agree</td>\n",
       "      <td>100000.0</td>\n",
       "      <td>NaN</td>\n",
       "      <td>Europe</td>\n",
       "      <td>3.0</td>\n",
       "    </tr>\n",
       "    <tr>\n",
       "      <th>17</th>\n",
       "      <td>18</td>\n",
       "      <td>Professional developer</td>\n",
       "      <td>Yes, both</td>\n",
       "      <td>United States</td>\n",
       "      <td>Yes, part-time</td>\n",
       "      <td>Employed full-time</td>\n",
       "      <td>Bachelor's degree</td>\n",
       "      <td>Computer science or software engineering</td>\n",
       "      <td>All or almost all the time (I'm full-time remote)</td>\n",
       "      <td>1,000 to 4,999 employees</td>\n",
       "      <td>...</td>\n",
       "      <td>A master's degree</td>\n",
       "      <td>Native American, Pacific Islander, or Indigeno...</td>\n",
       "      <td>Disagree</td>\n",
       "      <td>Agree</td>\n",
       "      <td>Disagree</td>\n",
       "      <td>Agree</td>\n",
       "      <td>130000.0</td>\n",
       "      <td>NaN</td>\n",
       "      <td>North America</td>\n",
       "      <td>7.0</td>\n",
       "    </tr>\n",
       "  </tbody>\n",
       "</table>\n",
       "<p>3 rows × 156 columns</p>\n",
       "</div>"
      ],
      "text/plain": [
       "    Respondent            Professional               ProgramHobby  \\\n",
       "2            3  Professional developer                  Yes, both   \n",
       "14          15  Professional developer  Yes, I program as a hobby   \n",
       "17          18  Professional developer                  Yes, both   \n",
       "\n",
       "           Country      University    EmploymentStatus      FormalEducation  \\\n",
       "2   United Kingdom              No  Employed full-time    Bachelor's degree   \n",
       "14  United Kingdom              No  Employed full-time  Professional degree   \n",
       "17   United States  Yes, part-time  Employed full-time    Bachelor's degree   \n",
       "\n",
       "                                       MajorUndergrad  \\\n",
       "2            Computer science or software engineering   \n",
       "14  Computer engineering or electrical/electronics...   \n",
       "17           Computer science or software engineering   \n",
       "\n",
       "                                           HomeRemote  \\\n",
       "2   Less than half the time, but at least one day ...   \n",
       "14  All or almost all the time (I'm full-time remote)   \n",
       "17  All or almost all the time (I'm full-time remote)   \n",
       "\n",
       "                 CompanySize  ... HighestEducationParents  \\\n",
       "2   10,000 or more employees  ...   A professional degree   \n",
       "14  5,000 to 9,999 employees  ...             High school   \n",
       "17  1,000 to 4,999 employees  ...       A master's degree   \n",
       "\n",
       "                                                 Race      SurveyLong  \\\n",
       "2                        White or of European descent  Somewhat agree   \n",
       "14                       White or of European descent  Somewhat agree   \n",
       "17  Native American, Pacific Islander, or Indigeno...        Disagree   \n",
       "\n",
       "   QuestionsInteresting QuestionsConfusing InterestedAnswers    Salary  \\\n",
       "2                 Agree           Disagree             Agree  113750.0   \n",
       "14                Agree           Disagree             Agree  100000.0   \n",
       "17                Agree           Disagree             Agree  130000.0   \n",
       "\n",
       "   ExpectedSalary      continent  NumberLanguageWorked  \n",
       "2             NaN         Europe                   3.0  \n",
       "14            NaN         Europe                   3.0  \n",
       "17            NaN  North America                   7.0  \n",
       "\n",
       "[3 rows x 156 columns]"
      ]
     },
     "execution_count": 133,
     "metadata": {},
     "output_type": "execute_result"
    }
   ],
   "source": [
    "drop_sal_df = df_q1.dropna(subset=['Salary'], axis=0) #Drop the rows with missing salaries\n",
    "\n",
    "# test look\n",
    "drop_sal_df.head(3)"
   ]
  },
  {
   "cell_type": "code",
   "execution_count": 137,
   "id": "8813fb4f",
   "metadata": {},
   "outputs": [
    {
     "data": {
      "text/html": [
       "<div>\n",
       "<style scoped>\n",
       "    .dataframe tbody tr th:only-of-type {\n",
       "        vertical-align: middle;\n",
       "    }\n",
       "\n",
       "    .dataframe tbody tr th {\n",
       "        vertical-align: top;\n",
       "    }\n",
       "\n",
       "    .dataframe thead th {\n",
       "        text-align: right;\n",
       "    }\n",
       "</style>\n",
       "<table border=\"1\" class=\"dataframe\">\n",
       "  <thead>\n",
       "    <tr style=\"text-align: right;\">\n",
       "      <th></th>\n",
       "      <th>Respondent</th>\n",
       "      <th>Professional</th>\n",
       "      <th>ProgramHobby</th>\n",
       "      <th>Country</th>\n",
       "      <th>University</th>\n",
       "      <th>EmploymentStatus</th>\n",
       "      <th>FormalEducation</th>\n",
       "      <th>MajorUndergrad</th>\n",
       "      <th>HomeRemote</th>\n",
       "      <th>CompanySize</th>\n",
       "      <th>...</th>\n",
       "      <th>HighestEducationParents</th>\n",
       "      <th>Race</th>\n",
       "      <th>SurveyLong</th>\n",
       "      <th>QuestionsInteresting</th>\n",
       "      <th>QuestionsConfusing</th>\n",
       "      <th>InterestedAnswers</th>\n",
       "      <th>Salary</th>\n",
       "      <th>ExpectedSalary</th>\n",
       "      <th>continent</th>\n",
       "      <th>NumberLanguageWorked</th>\n",
       "    </tr>\n",
       "  </thead>\n",
       "  <tbody>\n",
       "    <tr>\n",
       "      <th>2</th>\n",
       "      <td>3</td>\n",
       "      <td>Professional developer</td>\n",
       "      <td>Yes, both</td>\n",
       "      <td>United Kingdom</td>\n",
       "      <td>No</td>\n",
       "      <td>Employed full-time</td>\n",
       "      <td>Bachelor's degree</td>\n",
       "      <td>Computer science or software engineering</td>\n",
       "      <td>Less than half the time, but at least one day ...</td>\n",
       "      <td>10,000 or more employees</td>\n",
       "      <td>...</td>\n",
       "      <td>A professional degree</td>\n",
       "      <td>White or of European descent</td>\n",
       "      <td>Somewhat agree</td>\n",
       "      <td>Agree</td>\n",
       "      <td>Disagree</td>\n",
       "      <td>Agree</td>\n",
       "      <td>113750.0</td>\n",
       "      <td>NaN</td>\n",
       "      <td>Europe</td>\n",
       "      <td>3.0</td>\n",
       "    </tr>\n",
       "    <tr>\n",
       "      <th>14</th>\n",
       "      <td>15</td>\n",
       "      <td>Professional developer</td>\n",
       "      <td>Yes, I program as a hobby</td>\n",
       "      <td>United Kingdom</td>\n",
       "      <td>No</td>\n",
       "      <td>Employed full-time</td>\n",
       "      <td>Professional degree</td>\n",
       "      <td>Computer engineering or electrical/electronics...</td>\n",
       "      <td>All or almost all the time (I'm full-time remote)</td>\n",
       "      <td>5,000 to 9,999 employees</td>\n",
       "      <td>...</td>\n",
       "      <td>High school</td>\n",
       "      <td>White or of European descent</td>\n",
       "      <td>Somewhat agree</td>\n",
       "      <td>Agree</td>\n",
       "      <td>Disagree</td>\n",
       "      <td>Agree</td>\n",
       "      <td>100000.0</td>\n",
       "      <td>NaN</td>\n",
       "      <td>Europe</td>\n",
       "      <td>3.0</td>\n",
       "    </tr>\n",
       "    <tr>\n",
       "      <th>17</th>\n",
       "      <td>18</td>\n",
       "      <td>Professional developer</td>\n",
       "      <td>Yes, both</td>\n",
       "      <td>United States</td>\n",
       "      <td>Yes, part-time</td>\n",
       "      <td>Employed full-time</td>\n",
       "      <td>Bachelor's degree</td>\n",
       "      <td>Computer science or software engineering</td>\n",
       "      <td>All or almost all the time (I'm full-time remote)</td>\n",
       "      <td>1,000 to 4,999 employees</td>\n",
       "      <td>...</td>\n",
       "      <td>A master's degree</td>\n",
       "      <td>Native American, Pacific Islander, or Indigeno...</td>\n",
       "      <td>Disagree</td>\n",
       "      <td>Agree</td>\n",
       "      <td>Disagree</td>\n",
       "      <td>Agree</td>\n",
       "      <td>130000.0</td>\n",
       "      <td>NaN</td>\n",
       "      <td>North America</td>\n",
       "      <td>7.0</td>\n",
       "    </tr>\n",
       "  </tbody>\n",
       "</table>\n",
       "<p>3 rows × 156 columns</p>\n",
       "</div>"
      ],
      "text/plain": [
       "    Respondent            Professional               ProgramHobby  \\\n",
       "2            3  Professional developer                  Yes, both   \n",
       "14          15  Professional developer  Yes, I program as a hobby   \n",
       "17          18  Professional developer                  Yes, both   \n",
       "\n",
       "           Country      University    EmploymentStatus      FormalEducation  \\\n",
       "2   United Kingdom              No  Employed full-time    Bachelor's degree   \n",
       "14  United Kingdom              No  Employed full-time  Professional degree   \n",
       "17   United States  Yes, part-time  Employed full-time    Bachelor's degree   \n",
       "\n",
       "                                       MajorUndergrad  \\\n",
       "2            Computer science or software engineering   \n",
       "14  Computer engineering or electrical/electronics...   \n",
       "17           Computer science or software engineering   \n",
       "\n",
       "                                           HomeRemote  \\\n",
       "2   Less than half the time, but at least one day ...   \n",
       "14  All or almost all the time (I'm full-time remote)   \n",
       "17  All or almost all the time (I'm full-time remote)   \n",
       "\n",
       "                 CompanySize  ... HighestEducationParents  \\\n",
       "2   10,000 or more employees  ...   A professional degree   \n",
       "14  5,000 to 9,999 employees  ...             High school   \n",
       "17  1,000 to 4,999 employees  ...       A master's degree   \n",
       "\n",
       "                                                 Race      SurveyLong  \\\n",
       "2                        White or of European descent  Somewhat agree   \n",
       "14                       White or of European descent  Somewhat agree   \n",
       "17  Native American, Pacific Islander, or Indigeno...        Disagree   \n",
       "\n",
       "   QuestionsInteresting QuestionsConfusing InterestedAnswers    Salary  \\\n",
       "2                 Agree           Disagree             Agree  113750.0   \n",
       "14                Agree           Disagree             Agree  100000.0   \n",
       "17                Agree           Disagree             Agree  130000.0   \n",
       "\n",
       "   ExpectedSalary      continent  NumberLanguageWorked  \n",
       "2             NaN         Europe                   3.0  \n",
       "14            NaN         Europe                   3.0  \n",
       "17            NaN  North America                   7.0  \n",
       "\n",
       "[3 rows x 156 columns]"
      ]
     },
     "execution_count": 137,
     "metadata": {},
     "output_type": "execute_result"
    }
   ],
   "source": [
    "df_q1[df_q1[\"Salary\"].notna()].head(3)"
   ]
  },
  {
   "cell_type": "code",
   "execution_count": 142,
   "id": "11defbc5",
   "metadata": {},
   "outputs": [
    {
     "data": {
      "text/plain": [
       "0         53167.089577\n",
       "1         58238.351358\n",
       "2        113750.000000\n",
       "3         58238.351358\n",
       "4                  NaN\n",
       "             ...      \n",
       "51387     58000.000000\n",
       "51388     57944.074622\n",
       "51389              NaN\n",
       "51390     40000.000000\n",
       "51391     58934.946843\n",
       "Name: Salary, Length: 51392, dtype: float64"
      ]
     },
     "execution_count": 142,
     "metadata": {},
     "output_type": "execute_result"
    }
   ],
   "source": [
    "#impute the values for all the other missing values with the mean of the column\n",
    "df_q1[\"Salary\"] = df_q1['Salary'].fillna(df_q1.groupby('NumberLanguageWorked')['Salary'].transform('mean'))\n",
    "df_q1[\"Salary\"]"
   ]
  },
  {
   "cell_type": "code",
   "execution_count": 145,
   "id": "bb7f819f",
   "metadata": {},
   "outputs": [
    {
     "data": {
      "text/plain": [
       "14017"
      ]
     },
     "execution_count": 145,
     "metadata": {},
     "output_type": "execute_result"
    }
   ],
   "source": [
    "# check\n",
    "df_q1['Salary'].isna().sum()"
   ]
  },
  {
   "cell_type": "code",
   "execution_count": 146,
   "id": "bd1462b8",
   "metadata": {},
   "outputs": [
    {
     "data": {
      "text/plain": [
       "38501"
      ]
     },
     "execution_count": 146,
     "metadata": {},
     "output_type": "execute_result"
    }
   ],
   "source": [
    "# check\n",
    "df['Salary'].isna().sum()"
   ]
  },
  {
   "cell_type": "code",
   "execution_count": 147,
   "id": "0e825c68",
   "metadata": {},
   "outputs": [
    {
     "data": {
      "text/plain": [
       "37375"
      ]
     },
     "execution_count": 147,
     "metadata": {},
     "output_type": "execute_result"
    }
   ],
   "source": [
    "# check\n",
    "df_q1['Salary'].notna().sum()"
   ]
  },
  {
   "cell_type": "code",
   "execution_count": 148,
   "id": "59300eb0",
   "metadata": {},
   "outputs": [
    {
     "data": {
      "text/plain": [
       "12891"
      ]
     },
     "execution_count": 148,
     "metadata": {},
     "output_type": "execute_result"
    }
   ],
   "source": [
    "# check\n",
    "df['Salary'].notna().sum()"
   ]
  },
  {
   "cell_type": "markdown",
   "id": "89f31cfe",
   "metadata": {},
   "source": [
    "Number of None has decreased but not there are still some because not in every group of 'NumberLanguageWorked' there is a salary. So I drop those values w/o salary"
   ]
  },
  {
   "cell_type": "code",
   "execution_count": 151,
   "id": "cba2d669",
   "metadata": {},
   "outputs": [
    {
     "data": {
      "text/html": [
       "<div>\n",
       "<style scoped>\n",
       "    .dataframe tbody tr th:only-of-type {\n",
       "        vertical-align: middle;\n",
       "    }\n",
       "\n",
       "    .dataframe tbody tr th {\n",
       "        vertical-align: top;\n",
       "    }\n",
       "\n",
       "    .dataframe thead th {\n",
       "        text-align: right;\n",
       "    }\n",
       "</style>\n",
       "<table border=\"1\" class=\"dataframe\">\n",
       "  <thead>\n",
       "    <tr style=\"text-align: right;\">\n",
       "      <th></th>\n",
       "      <th>Salary</th>\n",
       "      <th>NumberLanguageWorked</th>\n",
       "    </tr>\n",
       "  </thead>\n",
       "  <tbody>\n",
       "    <tr>\n",
       "      <th>11579</th>\n",
       "      <td>NaN</td>\n",
       "      <td>22.0</td>\n",
       "    </tr>\n",
       "    <tr>\n",
       "      <th>21725</th>\n",
       "      <td>NaN</td>\n",
       "      <td>22.0</td>\n",
       "    </tr>\n",
       "    <tr>\n",
       "      <th>37745</th>\n",
       "      <td>NaN</td>\n",
       "      <td>22.0</td>\n",
       "    </tr>\n",
       "  </tbody>\n",
       "</table>\n",
       "</div>"
      ],
      "text/plain": [
       "       Salary  NumberLanguageWorked\n",
       "11579     NaN                  22.0\n",
       "21725     NaN                  22.0\n",
       "37745     NaN                  22.0"
      ]
     },
     "execution_count": 151,
     "metadata": {},
     "output_type": "execute_result"
    }
   ],
   "source": [
    "# check where salary is NaN and NumberLanguageWorked is not NaN. sort output\n",
    "df_q1[['Salary','NumberLanguageWorked']][(df_q1[\"Salary\"].isna())&(~df_q1[\"NumberLanguageWorked\"].isna())].sort_values(\"NumberLanguageWorked\").head(3)"
   ]
  },
  {
   "cell_type": "code",
   "execution_count": 152,
   "id": "6d9f7cfe",
   "metadata": {},
   "outputs": [
    {
     "data": {
      "text/html": [
       "<div>\n",
       "<style scoped>\n",
       "    .dataframe tbody tr th:only-of-type {\n",
       "        vertical-align: middle;\n",
       "    }\n",
       "\n",
       "    .dataframe tbody tr th {\n",
       "        vertical-align: top;\n",
       "    }\n",
       "\n",
       "    .dataframe thead th {\n",
       "        text-align: right;\n",
       "    }\n",
       "</style>\n",
       "<table border=\"1\" class=\"dataframe\">\n",
       "  <thead>\n",
       "    <tr style=\"text-align: right;\">\n",
       "      <th></th>\n",
       "      <th>Salary</th>\n",
       "      <th>NumberLanguageWorked</th>\n",
       "    </tr>\n",
       "  </thead>\n",
       "  <tbody>\n",
       "    <tr>\n",
       "      <th>18</th>\n",
       "      <td>82500.000000</td>\n",
       "      <td>NaN</td>\n",
       "    </tr>\n",
       "    <tr>\n",
       "      <th>69</th>\n",
       "      <td>32258.064516</td>\n",
       "      <td>NaN</td>\n",
       "    </tr>\n",
       "    <tr>\n",
       "      <th>152</th>\n",
       "      <td>107816.711590</td>\n",
       "      <td>NaN</td>\n",
       "    </tr>\n",
       "  </tbody>\n",
       "</table>\n",
       "</div>"
      ],
      "text/plain": [
       "            Salary  NumberLanguageWorked\n",
       "18    82500.000000                   NaN\n",
       "69    32258.064516                   NaN\n",
       "152  107816.711590                   NaN"
      ]
     },
     "execution_count": 152,
     "metadata": {},
     "output_type": "execute_result"
    }
   ],
   "source": [
    "# check where salary is not Nan and NumberLanguageWorked is Nan\n",
    "df_q1[['Salary','NumberLanguageWorked']][(~df_q1[\"Salary\"].isna())&(df_q1[\"NumberLanguageWorked\"].isna())].head(3)"
   ]
  },
  {
   "cell_type": "code",
   "execution_count": 154,
   "id": "c4566f31",
   "metadata": {},
   "outputs": [
    {
     "data": {
      "text/html": [
       "<div>\n",
       "<style scoped>\n",
       "    .dataframe tbody tr th:only-of-type {\n",
       "        vertical-align: middle;\n",
       "    }\n",
       "\n",
       "    .dataframe tbody tr th {\n",
       "        vertical-align: top;\n",
       "    }\n",
       "\n",
       "    .dataframe thead th {\n",
       "        text-align: right;\n",
       "    }\n",
       "</style>\n",
       "<table border=\"1\" class=\"dataframe\">\n",
       "  <thead>\n",
       "    <tr style=\"text-align: right;\">\n",
       "      <th></th>\n",
       "      <th>Salary</th>\n",
       "      <th>NumberLanguageWorked</th>\n",
       "    </tr>\n",
       "  </thead>\n",
       "  <tbody>\n",
       "  </tbody>\n",
       "</table>\n",
       "</div>"
      ],
      "text/plain": [
       "Empty DataFrame\n",
       "Columns: [Salary, NumberLanguageWorked]\n",
       "Index: []"
      ]
     },
     "execution_count": 154,
     "metadata": {},
     "output_type": "execute_result"
    }
   ],
   "source": [
    "# check if for NumberLanguageWorked < 20 there is NaN Salary\n",
    "df_q1[['Salary','NumberLanguageWorked']][(df_q1[\"Salary\"].isna())&(df_q1[\"NumberLanguageWorked\"]<20)]"
   ]
  },
  {
   "cell_type": "code",
   "execution_count": 156,
   "id": "ca4895ff",
   "metadata": {},
   "outputs": [
    {
     "data": {
      "text/plain": [
       "(36591, 156)"
      ]
     },
     "execution_count": 156,
     "metadata": {},
     "output_type": "execute_result"
    }
   ],
   "source": [
    "# create df_q1_20 with less than 20 NumberLanguageWorked\n",
    "df_q1_20=df_q1[(df_q1[\"NumberLanguageWorked\"]<20)]\n",
    "df_q1_20.shape"
   ]
  },
  {
   "cell_type": "code",
   "execution_count": 157,
   "id": "48ec0736",
   "metadata": {},
   "outputs": [
    {
     "data": {
      "text/plain": [
       "(51392, 156)"
      ]
     },
     "execution_count": 157,
     "metadata": {},
     "output_type": "execute_result"
    }
   ],
   "source": [
    "# check\n",
    "df.shape"
   ]
  },
  {
   "cell_type": "code",
   "execution_count": 158,
   "id": "444ba365",
   "metadata": {},
   "outputs": [
    {
     "data": {
      "image/png": "[encoded data removed]",
      "text/plain": [
       "<Figure size 432x288 with 1 Axes>"
      ]
     },
     "metadata": {
      "needs_background": "light"
     },
     "output_type": "display_data"
    }
   ],
   "source": [
    "#bar chart of the proportion of individuals in each country\n",
    "\n",
    "language_vals = df_q1_20.NumberLanguageWorked.value_counts()#Provide a pandas series of the counts for each country\n",
    "\n",
    "(language_vals/df_q1_20.shape[0]).plot(kind=\"bar\");\n",
    "plt.title(\"How many languages do you program?\");"
   ]
  },
  {
   "cell_type": "code",
   "execution_count": 159,
   "id": "66ded727",
   "metadata": {},
   "outputs": [
    {
     "data": {
      "text/plain": [
       "<AxesSubplot:title={'center':'Salary'}, xlabel='NumberLanguageWorked'>"
      ]
     },
     "execution_count": 159,
     "metadata": {},
     "output_type": "execute_result"
    },
    {
     "data": {
      "image/png": "[encoded data removed]",
      "text/plain": [
       "<Figure size 432x288 with 1 Axes>"
      ]
     },
     "metadata": {
      "needs_background": "light"
     },
     "output_type": "display_data"
    }
   ],
   "source": [
    "df_q1_20.groupby('NumberLanguageWorked')['Salary'].mean().plot(title='Salary')"
   ]
  },
  {
   "cell_type": "code",
   "execution_count": 161,
   "id": "627f138d",
   "metadata": {},
   "outputs": [
    {
     "data": {
      "text/plain": [
       "(32408, 156)"
      ]
     },
     "execution_count": 161,
     "metadata": {},
     "output_type": "execute_result"
    }
   ],
   "source": [
    "# narrowing down to less then 7\n",
    "df_q1_7=df_q1_20[(df_q1_20[\"NumberLanguageWorked\"]<7)]\n",
    "df_q1_7.shape"
   ]
  },
  {
   "cell_type": "code",
   "execution_count": 162,
   "id": "0786daf0",
   "metadata": {},
   "outputs": [
    {
     "data": {
      "text/plain": [
       "<AxesSubplot:title={'center':'Salary'}, xlabel='NumberLanguageWorked'>"
      ]
     },
     "execution_count": 162,
     "metadata": {},
     "output_type": "execute_result"
    },
    {
     "data": {
      "image/png": "[encoded data removed]",
      "text/plain": [
       "<Figure size 432x288 with 1 Axes>"
      ]
     },
     "metadata": {
      "needs_background": "light"
     },
     "output_type": "display_data"
    }
   ],
   "source": [
    "df_q1_7.groupby('NumberLanguageWorked')['Salary'].mean().plot(title='Salary')"
   ]
  },
  {
   "cell_type": "markdown",
   "id": "88cd9320",
   "metadata": {},
   "source": [
    "Majority of asked people can program in 3 languages (more than 20%). When narrowing down data to programmers who can program in 6 or less, there is a hughe jump in avarage Salary from one known language or two (from 53,000 to 58,000) but then there is stable with an exception in knowledge of 3 programming languages"
   ]
  },
  {
   "cell_type": "markdown",
   "id": "2480e351",
   "metadata": {},
   "source": [
    "##### Question II: If you know Python, you earn more?"
   ]
  },
  {
   "cell_type": "markdown",
   "id": "5679693b",
   "metadata": {},
   "source": [
    "##### Analyze"
   ]
  },
  {
   "cell_type": "code",
   "execution_count": 51,
   "id": "1a1427c9",
   "metadata": {},
   "outputs": [
    {
     "data": {
      "text/plain": [
       "Respondent              38501\n",
       "Professional            38501\n",
       "ProgramHobby            38501\n",
       "Country                 38501\n",
       "University              38501\n",
       "                        ...  \n",
       "InterestedAnswers       23014\n",
       "Salary                      0\n",
       "ExpectedSalary           2566\n",
       "continent               38501\n",
       "NumberLanguageWorked    24497\n",
       "Length: 156, dtype: int64"
      ]
     },
     "execution_count": 51,
     "metadata": {},
     "output_type": "execute_result"
    }
   ],
   "source": [
    "# check how many rows have na in salary\n",
    "df[df[\"Salary\"].isna()].count()"
   ]
  },
  {
   "cell_type": "code",
   "execution_count": 52,
   "id": "14ff5e0d",
   "metadata": {},
   "outputs": [],
   "source": [
    "#create df_salary dataframe where salary and HaveWorkedLanguage are not empty\n",
    "df_salary=df[(~df[\"Salary\"].isna())&(~df[\"HaveWorkedLanguage\"].isna())]"
   ]
  },
  {
   "cell_type": "code",
   "execution_count": 53,
   "id": "6ca154aa",
   "metadata": {},
   "outputs": [
    {
     "data": {
      "text/plain": [
       "(12128, 156)"
      ]
     },
     "execution_count": 53,
     "metadata": {},
     "output_type": "execute_result"
    }
   ],
   "source": [
    "df_salary.shape"
   ]
  },
  {
   "cell_type": "code",
   "execution_count": 54,
   "id": "35407d13",
   "metadata": {},
   "outputs": [
    {
     "data": {
      "text/html": [
       "<div>\n",
       "<style scoped>\n",
       "    .dataframe tbody tr th:only-of-type {\n",
       "        vertical-align: middle;\n",
       "    }\n",
       "\n",
       "    .dataframe tbody tr th {\n",
       "        vertical-align: top;\n",
       "    }\n",
       "\n",
       "    .dataframe thead th {\n",
       "        text-align: right;\n",
       "    }\n",
       "</style>\n",
       "<table border=\"1\" class=\"dataframe\">\n",
       "  <thead>\n",
       "    <tr style=\"text-align: right;\">\n",
       "      <th></th>\n",
       "      <th>Respondent</th>\n",
       "      <th>HaveWorkedLanguage</th>\n",
       "    </tr>\n",
       "  </thead>\n",
       "  <tbody>\n",
       "  </tbody>\n",
       "</table>\n",
       "</div>"
      ],
      "text/plain": [
       "Empty DataFrame\n",
       "Columns: [Respondent, HaveWorkedLanguage]\n",
       "Index: []"
      ]
     },
     "execution_count": 54,
     "metadata": {},
     "output_type": "execute_result"
    }
   ],
   "source": [
    "# check above\n",
    "df_salary[['Respondent','HaveWorkedLanguage']][df_salary['HaveWorkedLanguage'].isna()]"
   ]
  },
  {
   "cell_type": "code",
   "execution_count": null,
   "id": "d02776bb",
   "metadata": {},
   "outputs": [],
   "source": [
    "#df['NumberLanguageWorked'] = df['HaveWorkedLanguage'].str.count(' ').add(1)"
   ]
  },
  {
   "cell_type": "code",
   "execution_count": 55,
   "id": "c2e0831e",
   "metadata": {},
   "outputs": [
    {
     "data": {
      "text/html": [
       "<div>\n",
       "<style scoped>\n",
       "    .dataframe tbody tr th:only-of-type {\n",
       "        vertical-align: middle;\n",
       "    }\n",
       "\n",
       "    .dataframe tbody tr th {\n",
       "        vertical-align: top;\n",
       "    }\n",
       "\n",
       "    .dataframe thead th {\n",
       "        text-align: right;\n",
       "    }\n",
       "</style>\n",
       "<table border=\"1\" class=\"dataframe\">\n",
       "  <thead>\n",
       "    <tr style=\"text-align: right;\">\n",
       "      <th></th>\n",
       "      <th>Respondent</th>\n",
       "      <th>HaveWorkedLanguage</th>\n",
       "    </tr>\n",
       "  </thead>\n",
       "  <tbody>\n",
       "    <tr>\n",
       "      <th>2</th>\n",
       "      <td>3</td>\n",
       "      <td>Java; PHP; Python</td>\n",
       "    </tr>\n",
       "    <tr>\n",
       "      <th>75</th>\n",
       "      <td>76</td>\n",
       "      <td>Assembly; C; C++; Java; JavaScript; Perl; Pyth...</td>\n",
       "    </tr>\n",
       "    <tr>\n",
       "      <th>90</th>\n",
       "      <td>91</td>\n",
       "      <td>C; JavaScript; Python</td>\n",
       "    </tr>\n",
       "    <tr>\n",
       "      <th>103</th>\n",
       "      <td>104</td>\n",
       "      <td>Python</td>\n",
       "    </tr>\n",
       "    <tr>\n",
       "      <th>126</th>\n",
       "      <td>127</td>\n",
       "      <td>C#; Java; JavaScript; Python; SQL</td>\n",
       "    </tr>\n",
       "    <tr>\n",
       "      <th>...</th>\n",
       "      <td>...</td>\n",
       "      <td>...</td>\n",
       "    </tr>\n",
       "    <tr>\n",
       "      <th>51340</th>\n",
       "      <td>51341</td>\n",
       "      <td>Python</td>\n",
       "    </tr>\n",
       "    <tr>\n",
       "      <th>51355</th>\n",
       "      <td>51356</td>\n",
       "      <td>C#; Elixir; F#; JavaScript; Python; SQL</td>\n",
       "    </tr>\n",
       "    <tr>\n",
       "      <th>51371</th>\n",
       "      <td>51372</td>\n",
       "      <td>Go; JavaScript; Python</td>\n",
       "    </tr>\n",
       "    <tr>\n",
       "      <th>51378</th>\n",
       "      <td>51379</td>\n",
       "      <td>JavaScript; Objective-C; Python; Swift</td>\n",
       "    </tr>\n",
       "    <tr>\n",
       "      <th>51387</th>\n",
       "      <td>51388</td>\n",
       "      <td>C#; JavaScript; Python; SQL; VB.NET; VBA</td>\n",
       "    </tr>\n",
       "  </tbody>\n",
       "</table>\n",
       "<p>3442 rows × 2 columns</p>\n",
       "</div>"
      ],
      "text/plain": [
       "       Respondent                                 HaveWorkedLanguage\n",
       "2               3                                  Java; PHP; Python\n",
       "75             76  Assembly; C; C++; Java; JavaScript; Perl; Pyth...\n",
       "90             91                              C; JavaScript; Python\n",
       "103           104                                             Python\n",
       "126           127                  C#; Java; JavaScript; Python; SQL\n",
       "...           ...                                                ...\n",
       "51340       51341                                             Python\n",
       "51355       51356            C#; Elixir; F#; JavaScript; Python; SQL\n",
       "51371       51372                             Go; JavaScript; Python\n",
       "51378       51379             JavaScript; Objective-C; Python; Swift\n",
       "51387       51388           C#; JavaScript; Python; SQL; VB.NET; VBA\n",
       "\n",
       "[3442 rows x 2 columns]"
      ]
     },
     "execution_count": 55,
     "metadata": {},
     "output_type": "execute_result"
    }
   ],
   "source": [
    "# check if .str.contains('Python') workes\n",
    "df_salary[['Respondent','HaveWorkedLanguage']][df_salary['HaveWorkedLanguage'].str.contains('Python')]"
   ]
  },
  {
   "cell_type": "code",
   "execution_count": 57,
   "id": "c56dbfac",
   "metadata": {},
   "outputs": [
    {
     "data": {
      "text/plain": [
       "2     False\n",
       "14    False\n",
       "17    False\n",
       "Name: HaveWorkedLanguage, dtype: bool"
      ]
     },
     "execution_count": 57,
     "metadata": {},
     "output_type": "execute_result"
    }
   ],
   "source": [
    "df_salary['HaveWorkedLanguage'].isin(['Python']).head(3)"
   ]
  },
  {
   "cell_type": "code",
   "execution_count": 58,
   "id": "b9062094",
   "metadata": {},
   "outputs": [
    {
     "name": "stderr",
     "output_type": "stream",
     "text": [
      "<ipython-input-58-f874eb96d592>:1: SettingWithCopyWarning: \n",
      "A value is trying to be set on a copy of a slice from a DataFrame.\n",
      "Try using .loc[row_indexer,col_indexer] = value instead\n",
      "\n",
      "See the caveats in the documentation: https://pandas.pydata.org/pandas-docs/stable/user_guide/indexing.html#returning-a-view-versus-a-copy\n",
      "  df_salary['Python'] = np.where(df_salary['HaveWorkedLanguage'].isin(['Python']), True, False)\n"
     ]
    }
   ],
   "source": [
    "# add column 'Python' where HaveWorkedLanguage contains Python -> true -> else False\n",
    "df_salary['Python'] = np.where(df_salary['HaveWorkedLanguage'].isin(['Python']), True, False)"
   ]
  },
  {
   "cell_type": "code",
   "execution_count": 59,
   "id": "1dcbdbee",
   "metadata": {},
   "outputs": [
    {
     "name": "stderr",
     "output_type": "stream",
     "text": [
      "<ipython-input-59-f92165dbebad>:2: SettingWithCopyWarning: \n",
      "A value is trying to be set on a copy of a slice from a DataFrame.\n",
      "Try using .loc[row_indexer,col_indexer] = value instead\n",
      "\n",
      "See the caveats in the documentation: https://pandas.pydata.org/pandas-docs/stable/user_guide/indexing.html#returning-a-view-versus-a-copy\n",
      "  df_salary['Python']=df_salary['HaveWorkedLanguage'].str.contains('Python', case=False, na=False)\n"
     ]
    }
   ],
   "source": [
    "# add column 'Python' where HaveWorkedLanguage contains Python -> true -> else False\n",
    "df_salary['Python']=df_salary['HaveWorkedLanguage'].str.contains('Python', case=False, na=False)"
   ]
  },
  {
   "cell_type": "code",
   "execution_count": 61,
   "id": "e38fa81a",
   "metadata": {},
   "outputs": [
    {
     "data": {
      "text/plain": [
       "True    3442\n",
       "Name: Python, dtype: int64"
      ]
     },
     "execution_count": 61,
     "metadata": {},
     "output_type": "execute_result"
    }
   ],
   "source": [
    "#check\n",
    "df_salary['Python'][df_salary['HaveWorkedLanguage'].str.contains('Python')].value_counts()"
   ]
  },
  {
   "cell_type": "code",
   "execution_count": 62,
   "id": "6fb45ea8",
   "metadata": {},
   "outputs": [
    {
     "data": {
      "text/plain": [
       "False    8686\n",
       "Name: Python, dtype: int64"
      ]
     },
     "execution_count": 62,
     "metadata": {},
     "output_type": "execute_result"
    }
   ],
   "source": [
    "#check\n",
    "df_salary['Python'][~df_salary['HaveWorkedLanguage'].str.contains('Python')].value_counts()"
   ]
  },
  {
   "cell_type": "markdown",
   "id": "e84501ed",
   "metadata": {},
   "source": [
    "#### Visualise"
   ]
  },
  {
   "cell_type": "code",
   "execution_count": 63,
   "id": "ca95242e",
   "metadata": {},
   "outputs": [
    {
     "data": {
      "text/plain": [
       "<AxesSubplot:title={'center':'Salary~Python'}, xlabel='Python'>"
      ]
     },
     "execution_count": 63,
     "metadata": {},
     "output_type": "execute_result"
    },
    {
     "data": {
      "image/png": "[encoded data removed]",
      "text/plain": [
       "<Figure size 432x288 with 1 Axes>"
      ]
     },
     "metadata": {
      "needs_background": "light"
     },
     "output_type": "display_data"
    }
   ],
   "source": [
    "df_salary.groupby('Python')['Salary'].mean().plot(title='Salary~Python')"
   ]
  },
  {
   "cell_type": "markdown",
   "id": "8a6f11a4",
   "metadata": {},
   "source": [
    "It is better to know Python than not to know"
   ]
  },
  {
   "cell_type": "markdown",
   "id": "0cb15aed",
   "metadata": {},
   "source": [
    "##### Question III: Location makes a difference?### 3. discrapancy between salary and expected salary for whom is the biggest"
   ]
  },
  {
   "cell_type": "markdown",
   "id": "d2911d22",
   "metadata": {},
   "source": [
    "##### Analyze"
   ]
  },
  {
   "cell_type": "code",
   "execution_count": 65,
   "id": "5e2791b1",
   "metadata": {},
   "outputs": [
    {
     "data": {
      "text/html": [
       "<div>\n",
       "<style scoped>\n",
       "    .dataframe tbody tr th:only-of-type {\n",
       "        vertical-align: middle;\n",
       "    }\n",
       "\n",
       "    .dataframe tbody tr th {\n",
       "        vertical-align: top;\n",
       "    }\n",
       "\n",
       "    .dataframe thead th {\n",
       "        text-align: right;\n",
       "    }\n",
       "</style>\n",
       "<table border=\"1\" class=\"dataframe\">\n",
       "  <thead>\n",
       "    <tr style=\"text-align: right;\">\n",
       "      <th></th>\n",
       "      <th>Respondent</th>\n",
       "      <th>Professional</th>\n",
       "      <th>ProgramHobby</th>\n",
       "      <th>Country</th>\n",
       "      <th>University</th>\n",
       "      <th>EmploymentStatus</th>\n",
       "      <th>FormalEducation</th>\n",
       "      <th>MajorUndergrad</th>\n",
       "      <th>HomeRemote</th>\n",
       "      <th>CompanySize</th>\n",
       "      <th>...</th>\n",
       "      <th>HighestEducationParents</th>\n",
       "      <th>Race</th>\n",
       "      <th>SurveyLong</th>\n",
       "      <th>QuestionsInteresting</th>\n",
       "      <th>QuestionsConfusing</th>\n",
       "      <th>InterestedAnswers</th>\n",
       "      <th>Salary</th>\n",
       "      <th>ExpectedSalary</th>\n",
       "      <th>continent</th>\n",
       "      <th>NumberLanguageWorked</th>\n",
       "    </tr>\n",
       "  </thead>\n",
       "  <tbody>\n",
       "    <tr>\n",
       "      <th>2</th>\n",
       "      <td>3</td>\n",
       "      <td>Professional developer</td>\n",
       "      <td>Yes, both</td>\n",
       "      <td>United Kingdom</td>\n",
       "      <td>No</td>\n",
       "      <td>Employed full-time</td>\n",
       "      <td>Bachelor's degree</td>\n",
       "      <td>Computer science or software engineering</td>\n",
       "      <td>Less than half the time, but at least one day ...</td>\n",
       "      <td>10,000 or more employees</td>\n",
       "      <td>...</td>\n",
       "      <td>A professional degree</td>\n",
       "      <td>White or of European descent</td>\n",
       "      <td>Somewhat agree</td>\n",
       "      <td>Agree</td>\n",
       "      <td>Disagree</td>\n",
       "      <td>Agree</td>\n",
       "      <td>113750.0</td>\n",
       "      <td>NaN</td>\n",
       "      <td>Europe</td>\n",
       "      <td>3.0</td>\n",
       "    </tr>\n",
       "    <tr>\n",
       "      <th>14</th>\n",
       "      <td>15</td>\n",
       "      <td>Professional developer</td>\n",
       "      <td>Yes, I program as a hobby</td>\n",
       "      <td>United Kingdom</td>\n",
       "      <td>No</td>\n",
       "      <td>Employed full-time</td>\n",
       "      <td>Professional degree</td>\n",
       "      <td>Computer engineering or electrical/electronics...</td>\n",
       "      <td>All or almost all the time (I'm full-time remote)</td>\n",
       "      <td>5,000 to 9,999 employees</td>\n",
       "      <td>...</td>\n",
       "      <td>High school</td>\n",
       "      <td>White or of European descent</td>\n",
       "      <td>Somewhat agree</td>\n",
       "      <td>Agree</td>\n",
       "      <td>Disagree</td>\n",
       "      <td>Agree</td>\n",
       "      <td>100000.0</td>\n",
       "      <td>NaN</td>\n",
       "      <td>Europe</td>\n",
       "      <td>3.0</td>\n",
       "    </tr>\n",
       "    <tr>\n",
       "      <th>17</th>\n",
       "      <td>18</td>\n",
       "      <td>Professional developer</td>\n",
       "      <td>Yes, both</td>\n",
       "      <td>United States</td>\n",
       "      <td>Yes, part-time</td>\n",
       "      <td>Employed full-time</td>\n",
       "      <td>Bachelor's degree</td>\n",
       "      <td>Computer science or software engineering</td>\n",
       "      <td>All or almost all the time (I'm full-time remote)</td>\n",
       "      <td>1,000 to 4,999 employees</td>\n",
       "      <td>...</td>\n",
       "      <td>A master's degree</td>\n",
       "      <td>Native American, Pacific Islander, or Indigeno...</td>\n",
       "      <td>Disagree</td>\n",
       "      <td>Agree</td>\n",
       "      <td>Disagree</td>\n",
       "      <td>Agree</td>\n",
       "      <td>130000.0</td>\n",
       "      <td>NaN</td>\n",
       "      <td>North America</td>\n",
       "      <td>7.0</td>\n",
       "    </tr>\n",
       "  </tbody>\n",
       "</table>\n",
       "<p>3 rows × 156 columns</p>\n",
       "</div>"
      ],
      "text/plain": [
       "    Respondent            Professional               ProgramHobby  \\\n",
       "2            3  Professional developer                  Yes, both   \n",
       "14          15  Professional developer  Yes, I program as a hobby   \n",
       "17          18  Professional developer                  Yes, both   \n",
       "\n",
       "           Country      University    EmploymentStatus      FormalEducation  \\\n",
       "2   United Kingdom              No  Employed full-time    Bachelor's degree   \n",
       "14  United Kingdom              No  Employed full-time  Professional degree   \n",
       "17   United States  Yes, part-time  Employed full-time    Bachelor's degree   \n",
       "\n",
       "                                       MajorUndergrad  \\\n",
       "2            Computer science or software engineering   \n",
       "14  Computer engineering or electrical/electronics...   \n",
       "17           Computer science or software engineering   \n",
       "\n",
       "                                           HomeRemote  \\\n",
       "2   Less than half the time, but at least one day ...   \n",
       "14  All or almost all the time (I'm full-time remote)   \n",
       "17  All or almost all the time (I'm full-time remote)   \n",
       "\n",
       "                 CompanySize  ... HighestEducationParents  \\\n",
       "2   10,000 or more employees  ...   A professional degree   \n",
       "14  5,000 to 9,999 employees  ...             High school   \n",
       "17  1,000 to 4,999 employees  ...       A master's degree   \n",
       "\n",
       "                                                 Race      SurveyLong  \\\n",
       "2                        White or of European descent  Somewhat agree   \n",
       "14                       White or of European descent  Somewhat agree   \n",
       "17  Native American, Pacific Islander, or Indigeno...        Disagree   \n",
       "\n",
       "   QuestionsInteresting QuestionsConfusing InterestedAnswers    Salary  \\\n",
       "2                 Agree           Disagree             Agree  113750.0   \n",
       "14                Agree           Disagree             Agree  100000.0   \n",
       "17                Agree           Disagree             Agree  130000.0   \n",
       "\n",
       "   ExpectedSalary      continent  NumberLanguageWorked  \n",
       "2             NaN         Europe                   3.0  \n",
       "14            NaN         Europe                   3.0  \n",
       "17            NaN  North America                   7.0  \n",
       "\n",
       "[3 rows x 156 columns]"
      ]
     },
     "execution_count": 65,
     "metadata": {},
     "output_type": "execute_result"
    }
   ],
   "source": [
    "# create df_continent where Salary is not null\n",
    "df_continent=df[(~df[\"Salary\"].isna())]\n",
    "df_continent.head(3)"
   ]
  },
  {
   "cell_type": "code",
   "execution_count": 66,
   "id": "7d26f3b7",
   "metadata": {},
   "outputs": [
    {
     "data": {
      "text/plain": [
       "<AxesSubplot:title={'center':'Salary~continent'}, xlabel='continent'>"
      ]
     },
     "execution_count": 66,
     "metadata": {},
     "output_type": "execute_result"
    },
    {
     "data": {
      "image/png": "[encoded data removed]",
      "text/plain": [
       "<Figure size 432x288 with 1 Axes>"
      ]
     },
     "metadata": {
      "needs_background": "light"
     },
     "output_type": "display_data"
    }
   ],
   "source": [
    "# plot mean salary for each continent\n",
    "df_continent.groupby('continent')['Salary'].mean().plot(title='Salary~continent')"
   ]
  },
  {
   "cell_type": "code",
   "execution_count": 67,
   "id": "09ebabf6",
   "metadata": {},
   "outputs": [
    {
     "data": {
      "text/plain": [
       "Europe    5877\n",
       "Name: continent, dtype: int64"
      ]
     },
     "execution_count": 67,
     "metadata": {},
     "output_type": "execute_result"
    }
   ],
   "source": [
    "# create df_europe where are only european countries\n",
    "df_europe=df_continent[(df_continent[\"continent\"]==\"Europe\")]\n",
    "df_europe['continent'].value_counts()"
   ]
  },
  {
   "cell_type": "code",
   "execution_count": 68,
   "id": "a9abb3e6",
   "metadata": {},
   "outputs": [
    {
     "data": {
      "text/plain": [
       "<AxesSubplot:title={'center':'Salary~Europe'}, xlabel='Country'>"
      ]
     },
     "execution_count": 68,
     "metadata": {},
     "output_type": "execute_result"
    },
    {
     "data": {
      "image/png": "[encoded data removed]",
      "text/plain": [
       "<Figure size 432x288 with 1 Axes>"
      ]
     },
     "metadata": {
      "needs_background": "light"
     },
     "output_type": "display_data"
    }
   ],
   "source": [
    "# plot mean salary for each european country\n",
    "df_europe.groupby('Country')['Salary'].mean().plot(title='Salary~Europe',color='green')"
   ]
  },
  {
   "cell_type": "code",
   "execution_count": 69,
   "id": "2a973b14",
   "metadata": {},
   "outputs": [
    {
     "data": {
      "text/plain": [
       "[<matplotlib.lines.Line2D at 0x1523732be50>]"
      ]
     },
     "execution_count": 69,
     "metadata": {},
     "output_type": "execute_result"
    },
    {
     "data": {
      "image/png": "[encoded data removed]",
      "text/plain": [
       "<Figure size 432x288 with 1 Axes>"
      ]
     },
     "metadata": {
      "needs_background": "light"
     },
     "output_type": "display_data"
    }
   ],
   "source": [
    "# same as above with different method\n",
    "plt.plot(df_europe.groupby('Country')['Salary'].mean())"
   ]
  },
  {
   "cell_type": "code",
   "execution_count": 75,
   "id": "9b55df65",
   "metadata": {},
   "outputs": [
    {
     "data": {
      "text/plain": [
       "[23168.11584516848, 41455.72276315604, 73534.35302195427]"
      ]
     },
     "execution_count": 75,
     "metadata": {},
     "output_type": "execute_result"
    }
   ],
   "source": [
    "# create list of mean salary for each country and slect 4 elelements to check it\n",
    "country_list = df_europe.groupby('Country')['Salary'].mean().value_counts().index.tolist()\n",
    "country_list[0:3]"
   ]
  },
  {
   "cell_type": "code",
   "execution_count": 76,
   "id": "c9c81c46",
   "metadata": {},
   "outputs": [
    {
     "data": {
      "text/plain": [
       "43458.45067858717"
      ]
     },
     "execution_count": 76,
     "metadata": {},
     "output_type": "execute_result"
    }
   ],
   "source": [
    "# check mean salary for df_europe\n",
    "df_europe['Salary'].mean()"
   ]
  },
  {
   "cell_type": "code",
   "execution_count": 78,
   "id": "0597da19",
   "metadata": {},
   "outputs": [
    {
     "data": {
      "text/html": [
       "<div>\n",
       "<style scoped>\n",
       "    .dataframe tbody tr th:only-of-type {\n",
       "        vertical-align: middle;\n",
       "    }\n",
       "\n",
       "    .dataframe tbody tr th {\n",
       "        vertical-align: top;\n",
       "    }\n",
       "\n",
       "    .dataframe thead th {\n",
       "        text-align: right;\n",
       "    }\n",
       "</style>\n",
       "<table border=\"1\" class=\"dataframe\">\n",
       "  <thead>\n",
       "    <tr style=\"text-align: right;\">\n",
       "      <th></th>\n",
       "      <th>Country</th>\n",
       "      <th>Salary</th>\n",
       "    </tr>\n",
       "  </thead>\n",
       "  <tbody>\n",
       "    <tr>\n",
       "      <th>18</th>\n",
       "      <td>Liechtenstein</td>\n",
       "      <td>93766.666667</td>\n",
       "    </tr>\n",
       "    <tr>\n",
       "      <th>35</th>\n",
       "      <td>Switzerland</td>\n",
       "      <td>91189.692616</td>\n",
       "    </tr>\n",
       "    <tr>\n",
       "      <th>14</th>\n",
       "      <td>Iceland</td>\n",
       "      <td>80645.161290</td>\n",
       "    </tr>\n",
       "  </tbody>\n",
       "</table>\n",
       "</div>"
      ],
      "text/plain": [
       "          Country        Salary\n",
       "18  Liechtenstein  93766.666667\n",
       "35    Switzerland  91189.692616\n",
       "14        Iceland  80645.161290"
      ]
     },
     "execution_count": 78,
     "metadata": {},
     "output_type": "execute_result"
    }
   ],
   "source": [
    "# create country_mean dataframe with country and mean salary for this country\n",
    "country_mean=pd.DataFrame(df_europe.groupby('Country', as_index=False).agg({\"Salary\": \"mean\"}).sort_values(\"Salary\",ascending=False))\n",
    "country_mean.head(3)"
   ]
  },
  {
   "cell_type": "code",
   "execution_count": 79,
   "id": "cb116f14",
   "metadata": {},
   "outputs": [
    {
     "data": {
      "text/plain": [
       "([0,\n",
       "  1,\n",
       "  2,\n",
       "  3,\n",
       "  4,\n",
       "  5,\n",
       "  6,\n",
       "  7,\n",
       "  8,\n",
       "  9,\n",
       "  10,\n",
       "  11,\n",
       "  12,\n",
       "  13,\n",
       "  14,\n",
       "  15,\n",
       "  16,\n",
       "  17,\n",
       "  18,\n",
       "  19,\n",
       "  20,\n",
       "  21,\n",
       "  22,\n",
       "  23,\n",
       "  24,\n",
       "  25,\n",
       "  26,\n",
       "  27,\n",
       "  28,\n",
       "  29,\n",
       "  30,\n",
       "  31,\n",
       "  32,\n",
       "  33,\n",
       "  34,\n",
       "  35,\n",
       "  36,\n",
       "  37],\n",
       " [Text(0, 0, ''),\n",
       "  Text(0, 0, ''),\n",
       "  Text(0, 0, ''),\n",
       "  Text(0, 0, ''),\n",
       "  Text(0, 0, ''),\n",
       "  Text(0, 0, ''),\n",
       "  Text(0, 0, ''),\n",
       "  Text(0, 0, ''),\n",
       "  Text(0, 0, ''),\n",
       "  Text(0, 0, ''),\n",
       "  Text(0, 0, ''),\n",
       "  Text(0, 0, ''),\n",
       "  Text(0, 0, ''),\n",
       "  Text(0, 0, ''),\n",
       "  Text(0, 0, ''),\n",
       "  Text(0, 0, ''),\n",
       "  Text(0, 0, ''),\n",
       "  Text(0, 0, ''),\n",
       "  Text(0, 0, ''),\n",
       "  Text(0, 0, ''),\n",
       "  Text(0, 0, ''),\n",
       "  Text(0, 0, ''),\n",
       "  Text(0, 0, ''),\n",
       "  Text(0, 0, ''),\n",
       "  Text(0, 0, ''),\n",
       "  Text(0, 0, ''),\n",
       "  Text(0, 0, ''),\n",
       "  Text(0, 0, ''),\n",
       "  Text(0, 0, ''),\n",
       "  Text(0, 0, ''),\n",
       "  Text(0, 0, ''),\n",
       "  Text(0, 0, ''),\n",
       "  Text(0, 0, ''),\n",
       "  Text(0, 0, ''),\n",
       "  Text(0, 0, ''),\n",
       "  Text(0, 0, ''),\n",
       "  Text(0, 0, ''),\n",
       "  Text(0, 0, '')])"
      ]
     },
     "execution_count": 79,
     "metadata": {},
     "output_type": "execute_result"
    },
    {
     "data": {
      "image/png": "[encoded data removed]",
      "text/plain": [
       "<Figure size 432x288 with 1 Axes>"
      ]
     },
     "metadata": {
      "needs_background": "light"
     },
     "output_type": "display_data"
    }
   ],
   "source": [
    "# plot mean salary for country rotate lables of x axis\n",
    "plt.plot(country_mean['Country'],country_mean['Salary'])\n",
    "plt.xticks(rotation=90)"
   ]
  },
  {
   "cell_type": "code",
   "execution_count": 81,
   "id": "25f62888",
   "metadata": {},
   "outputs": [
    {
     "data": {
      "text/plain": [
       "(1160, 156)"
      ]
     },
     "execution_count": 81,
     "metadata": {},
     "output_type": "execute_result"
    }
   ],
   "source": [
    "# create df_ExpectedEU where ExpectedSalary is not null and continent = Europe, then check shape\n",
    "df_ExpectedEU=df[(~df[\"ExpectedSalary\"].isna())&(df[\"continent\"]==\"Europe\")]\n",
    "df_ExpectedEU.shape"
   ]
  },
  {
   "cell_type": "code",
   "execution_count": 83,
   "id": "0f72d424",
   "metadata": {},
   "outputs": [
    {
     "data": {
      "text/plain": [
       "[<matplotlib.lines.Line2D at 0x1524022efa0>]"
      ]
     },
     "execution_count": 83,
     "metadata": {},
     "output_type": "execute_result"
    },
    {
     "data": {
      "image/png": "[encoded data removed]",
      "text/plain": [
       "<Figure size 432x288 with 1 Axes>"
      ]
     },
     "metadata": {
      "needs_background": "light"
     },
     "output_type": "display_data"
    }
   ],
   "source": [
    "# plot mean ExpectedSalary for each country\n",
    "plt.plot(df_ExpectedEU.groupby('Country')['ExpectedSalary'].mean())"
   ]
  },
  {
   "cell_type": "code",
   "execution_count": 84,
   "id": "1c57759b",
   "metadata": {},
   "outputs": [
    {
     "data": {
      "text/html": [
       "<div>\n",
       "<style scoped>\n",
       "    .dataframe tbody tr th:only-of-type {\n",
       "        vertical-align: middle;\n",
       "    }\n",
       "\n",
       "    .dataframe tbody tr th {\n",
       "        vertical-align: top;\n",
       "    }\n",
       "\n",
       "    .dataframe thead th {\n",
       "        text-align: right;\n",
       "    }\n",
       "</style>\n",
       "<table border=\"1\" class=\"dataframe\">\n",
       "  <thead>\n",
       "    <tr style=\"text-align: right;\">\n",
       "      <th></th>\n",
       "      <th>Country</th>\n",
       "      <th>ExpectedSalary</th>\n",
       "    </tr>\n",
       "  </thead>\n",
       "  <tbody>\n",
       "    <tr>\n",
       "      <th>1</th>\n",
       "      <td>Andorra</td>\n",
       "      <td>113636.363636</td>\n",
       "    </tr>\n",
       "    <tr>\n",
       "      <th>23</th>\n",
       "      <td>Norway</td>\n",
       "      <td>56480.314161</td>\n",
       "    </tr>\n",
       "    <tr>\n",
       "      <th>14</th>\n",
       "      <td>Iceland</td>\n",
       "      <td>51516.129032</td>\n",
       "    </tr>\n",
       "  </tbody>\n",
       "</table>\n",
       "</div>"
      ],
      "text/plain": [
       "    Country  ExpectedSalary\n",
       "1   Andorra   113636.363636\n",
       "23   Norway    56480.314161\n",
       "14  Iceland    51516.129032"
      ]
     },
     "execution_count": 84,
     "metadata": {},
     "output_type": "execute_result"
    }
   ],
   "source": [
    "# create ExpectedEU_mean dataframe with country and mean ExpectedSalary for each country\n",
    "ExpectedEU_mean=pd.DataFrame(df_ExpectedEU.groupby('Country', as_index=False).agg({\"ExpectedSalary\": \"mean\"}).sort_values(\"ExpectedSalary\",ascending=False))\n",
    "ExpectedEU_mean.head(3)"
   ]
  },
  {
   "cell_type": "code",
   "execution_count": 89,
   "id": "41ab7f01",
   "metadata": {},
   "outputs": [
    {
     "data": {
      "text/plain": [
       "([0,\n",
       "  1,\n",
       "  2,\n",
       "  3,\n",
       "  4,\n",
       "  5,\n",
       "  6,\n",
       "  7,\n",
       "  8,\n",
       "  9,\n",
       "  10,\n",
       "  11,\n",
       "  12,\n",
       "  13,\n",
       "  14,\n",
       "  15,\n",
       "  16,\n",
       "  17,\n",
       "  18,\n",
       "  19,\n",
       "  20,\n",
       "  21,\n",
       "  22,\n",
       "  23,\n",
       "  24,\n",
       "  25,\n",
       "  26,\n",
       "  27,\n",
       "  28,\n",
       "  29,\n",
       "  30,\n",
       "  31,\n",
       "  32,\n",
       "  33,\n",
       "  34,\n",
       "  35],\n",
       " [Text(0, 0, ''),\n",
       "  Text(0, 0, ''),\n",
       "  Text(0, 0, ''),\n",
       "  Text(0, 0, ''),\n",
       "  Text(0, 0, ''),\n",
       "  Text(0, 0, ''),\n",
       "  Text(0, 0, ''),\n",
       "  Text(0, 0, ''),\n",
       "  Text(0, 0, ''),\n",
       "  Text(0, 0, ''),\n",
       "  Text(0, 0, ''),\n",
       "  Text(0, 0, ''),\n",
       "  Text(0, 0, ''),\n",
       "  Text(0, 0, ''),\n",
       "  Text(0, 0, ''),\n",
       "  Text(0, 0, ''),\n",
       "  Text(0, 0, ''),\n",
       "  Text(0, 0, ''),\n",
       "  Text(0, 0, ''),\n",
       "  Text(0, 0, ''),\n",
       "  Text(0, 0, ''),\n",
       "  Text(0, 0, ''),\n",
       "  Text(0, 0, ''),\n",
       "  Text(0, 0, ''),\n",
       "  Text(0, 0, ''),\n",
       "  Text(0, 0, ''),\n",
       "  Text(0, 0, ''),\n",
       "  Text(0, 0, ''),\n",
       "  Text(0, 0, ''),\n",
       "  Text(0, 0, ''),\n",
       "  Text(0, 0, ''),\n",
       "  Text(0, 0, ''),\n",
       "  Text(0, 0, ''),\n",
       "  Text(0, 0, ''),\n",
       "  Text(0, 0, ''),\n",
       "  Text(0, 0, '')])"
      ]
     },
     "execution_count": 89,
     "metadata": {},
     "output_type": "execute_result"
    },
    {
     "data": {
      "image/png": "[encoded data removed]",
      "text/plain": [
       "<Figure size 432x288 with 1 Axes>"
      ]
     },
     "metadata": {
      "needs_background": "light"
     },
     "output_type": "display_data"
    }
   ],
   "source": [
    "# plot mean ExpectedSalary for each country\n",
    "plt.plot(ExpectedEU_mean['Country'],ExpectedEU_mean['ExpectedSalary'])\n",
    "plt.xticks(rotation=90)"
   ]
  },
  {
   "cell_type": "code",
   "execution_count": 86,
   "id": "1a550f58",
   "metadata": {},
   "outputs": [
    {
     "data": {
      "text/html": [
       "<div>\n",
       "<style scoped>\n",
       "    .dataframe tbody tr th:only-of-type {\n",
       "        vertical-align: middle;\n",
       "    }\n",
       "\n",
       "    .dataframe tbody tr th {\n",
       "        vertical-align: top;\n",
       "    }\n",
       "\n",
       "    .dataframe thead th {\n",
       "        text-align: right;\n",
       "    }\n",
       "</style>\n",
       "<table border=\"1\" class=\"dataframe\">\n",
       "  <thead>\n",
       "    <tr style=\"text-align: right;\">\n",
       "      <th></th>\n",
       "      <th>Country</th>\n",
       "      <th>Salary</th>\n",
       "      <th>ExpectedSalary</th>\n",
       "    </tr>\n",
       "  </thead>\n",
       "  <tbody>\n",
       "    <tr>\n",
       "      <th>0</th>\n",
       "      <td>Switzerland</td>\n",
       "      <td>91189.692616</td>\n",
       "      <td>45863.709677</td>\n",
       "    </tr>\n",
       "    <tr>\n",
       "      <th>1</th>\n",
       "      <td>Iceland</td>\n",
       "      <td>80645.161290</td>\n",
       "      <td>51516.129032</td>\n",
       "    </tr>\n",
       "    <tr>\n",
       "      <th>2</th>\n",
       "      <td>Norway</td>\n",
       "      <td>73534.353022</td>\n",
       "      <td>56480.314161</td>\n",
       "    </tr>\n",
       "  </tbody>\n",
       "</table>\n",
       "</div>"
      ],
      "text/plain": [
       "       Country        Salary  ExpectedSalary\n",
       "0  Switzerland  91189.692616    45863.709677\n",
       "1      Iceland  80645.161290    51516.129032\n",
       "2       Norway  73534.353022    56480.314161"
      ]
     },
     "execution_count": 86,
     "metadata": {},
     "output_type": "execute_result"
    }
   ],
   "source": [
    "# merge country_mean df and ExpectedEU_mean df on='Country'\n",
    "merge=pd.merge(country_mean, ExpectedEU_mean, on='Country')\n",
    "merge.head(3)"
   ]
  },
  {
   "cell_type": "markdown",
   "id": "a3d2bf7e",
   "metadata": {},
   "source": [
    "#### Visualise"
   ]
  },
  {
   "cell_type": "code",
   "execution_count": 87,
   "id": "6e25e08a",
   "metadata": {},
   "outputs": [
    {
     "data": {
      "text/plain": [
       "<matplotlib.legend.Legend at 0x15241a412b0>"
      ]
     },
     "execution_count": 87,
     "metadata": {},
     "output_type": "execute_result"
    },
    {
     "data": {
      "image/png": "[encoded data removed]",
      "text/plain": [
       "<Figure size 432x288 with 1 Axes>"
      ]
     },
     "metadata": {
      "needs_background": "light"
     },
     "output_type": "display_data"
    }
   ],
   "source": [
    "plt.plot(merge['Country'],merge['Salary'], label = \"Salary\")\n",
    "plt.plot(merge['Country'],merge['ExpectedSalary'], label = \"ExpectedSalary\")\n",
    "plt.xticks(rotation=90)\n",
    "plt.title('Salary~Europe')\n",
    "plt.legend([\"Salary\", \"ExpectedSalary\"], loc =\"upper right\")"
   ]
  },
  {
   "cell_type": "markdown",
   "id": "99345fd9",
   "metadata": {},
   "source": [
    "It looks like programmers in all location think that they will earn less that they actualy are earning. It makes a huge diference if you are based in Switzerland than in Latvia or Poland."
   ]
  }
 ],
 "metadata": {
  "kernelspec": {
   "display_name": "Python 3",
   "language": "python",
   "name": "python3"
  },
  "language_info": {
   "codemirror_mode": {
    "name": "ipython",
    "version": 3
   },
   "file_extension": ".py",
   "mimetype": "text/x-python",
   "name": "python",
   "nbconvert_exporter": "python",
   "pygments_lexer": "ipython3",
   "version": "3.8.8"
  }
 },
 "nbformat": 4,
 "nbformat_minor": 5
}
